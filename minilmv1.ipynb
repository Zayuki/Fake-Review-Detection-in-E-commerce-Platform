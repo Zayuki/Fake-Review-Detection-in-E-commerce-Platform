{
 "cells": [
  {
   "cell_type": "markdown",
   "id": "21499e71",
   "metadata": {
    "_cell_guid": "c7ba68d0-4f89-45cb-bd8e-f23405205436",
    "_uuid": "71dcb75b-4287-4fd8-9c62-31755ff778d1",
    "id": "Zcys-EiEHqwS",
    "papermill": {
     "duration": 0.011041,
     "end_time": "2023-12-16T15:33:21.595577",
     "exception": false,
     "start_time": "2023-12-16T15:33:21.584536",
     "status": "completed"
    },
    "tags": []
   },
   "source": [
    "*This is MiniLMv1*\n",
    "​"
   ]
  },
  {
   "cell_type": "code",
   "execution_count": 1,
   "id": "2aef7510",
   "metadata": {
    "_cell_guid": "baceca59-c3ef-4c04-b4fa-b8f8faa247d1",
    "_uuid": "49e2713c-fff0-40dc-b559-182ba18f8e8b",
    "collapsed": false,
    "execution": {
     "iopub.execute_input": "2023-12-16T15:33:21.619657Z",
     "iopub.status.busy": "2023-12-16T15:33:21.618617Z",
     "iopub.status.idle": "2023-12-16T15:34:03.126099Z",
     "shell.execute_reply": "2023-12-16T15:34:03.125206Z"
    },
    "id": "XyFzcUVpR3bO",
    "jupyter": {
     "outputs_hidden": false
    },
    "outputId": "c717bf56-2d56-4c71-ca52-5946159f1b68",
    "papermill": {
     "duration": 41.522008,
     "end_time": "2023-12-16T15:34:03.128509",
     "exception": false,
     "start_time": "2023-12-16T15:33:21.606501",
     "status": "completed"
    },
    "tags": []
   },
   "outputs": [
    {
     "name": "stdout",
     "output_type": "stream",
     "text": [
      "Requirement already satisfied: transformers in /opt/conda/lib/python3.10/site-packages (4.36.0)\r\n",
      "Collecting transformers\r\n",
      "  Obtaining dependency information for transformers from https://files.pythonhosted.org/packages/fc/04/0aad491cd98b09236c54ab849863ee85421eeda5138bbf9d33ecc594652b/transformers-4.36.1-py3-none-any.whl.metadata\r\n",
      "  Downloading transformers-4.36.1-py3-none-any.whl.metadata (126 kB)\r\n",
      "\u001b[2K     \u001b[90m━━━━━━━━━━━━━━━━━━━━━━━━━━━━━━━━━━━━━━━\u001b[0m \u001b[32m126.8/126.8 kB\u001b[0m \u001b[31m1.2 MB/s\u001b[0m eta \u001b[36m0:00:00\u001b[0m\r\n",
      "\u001b[?25hRequirement already satisfied: filelock in /opt/conda/lib/python3.10/site-packages (from transformers) (3.12.2)\r\n",
      "Requirement already satisfied: huggingface-hub<1.0,>=0.19.3 in /opt/conda/lib/python3.10/site-packages (from transformers) (0.19.4)\r\n",
      "Requirement already satisfied: numpy>=1.17 in /opt/conda/lib/python3.10/site-packages (from transformers) (1.24.3)\r\n",
      "Requirement already satisfied: packaging>=20.0 in /opt/conda/lib/python3.10/site-packages (from transformers) (21.3)\r\n",
      "Requirement already satisfied: pyyaml>=5.1 in /opt/conda/lib/python3.10/site-packages (from transformers) (6.0.1)\r\n",
      "Requirement already satisfied: regex!=2019.12.17 in /opt/conda/lib/python3.10/site-packages (from transformers) (2023.8.8)\r\n",
      "Requirement already satisfied: requests in /opt/conda/lib/python3.10/site-packages (from transformers) (2.31.0)\r\n",
      "Requirement already satisfied: tokenizers<0.19,>=0.14 in /opt/conda/lib/python3.10/site-packages (from transformers) (0.15.0)\r\n",
      "Requirement already satisfied: safetensors>=0.3.1 in /opt/conda/lib/python3.10/site-packages (from transformers) (0.4.1)\r\n",
      "Requirement already satisfied: tqdm>=4.27 in /opt/conda/lib/python3.10/site-packages (from transformers) (4.66.1)\r\n",
      "Requirement already satisfied: fsspec>=2023.5.0 in /opt/conda/lib/python3.10/site-packages (from huggingface-hub<1.0,>=0.19.3->transformers) (2023.12.2)\r\n",
      "Requirement already satisfied: typing-extensions>=3.7.4.3 in /opt/conda/lib/python3.10/site-packages (from huggingface-hub<1.0,>=0.19.3->transformers) (4.5.0)\r\n",
      "Requirement already satisfied: pyparsing!=3.0.5,>=2.0.2 in /opt/conda/lib/python3.10/site-packages (from packaging>=20.0->transformers) (3.0.9)\r\n",
      "Requirement already satisfied: charset-normalizer<4,>=2 in /opt/conda/lib/python3.10/site-packages (from requests->transformers) (3.2.0)\r\n",
      "Requirement already satisfied: idna<4,>=2.5 in /opt/conda/lib/python3.10/site-packages (from requests->transformers) (3.4)\r\n",
      "Requirement already satisfied: urllib3<3,>=1.21.1 in /opt/conda/lib/python3.10/site-packages (from requests->transformers) (1.26.15)\r\n",
      "Requirement already satisfied: certifi>=2017.4.17 in /opt/conda/lib/python3.10/site-packages (from requests->transformers) (2023.11.17)\r\n",
      "Downloading transformers-4.36.1-py3-none-any.whl (8.3 MB)\r\n",
      "\u001b[2K   \u001b[90m━━━━━━━━━━━━━━━━━━━━━━━━━━━━━━━━━━━━━━━━\u001b[0m \u001b[32m8.3/8.3 MB\u001b[0m \u001b[31m28.0 MB/s\u001b[0m eta \u001b[36m0:00:00\u001b[0m\r\n",
      "\u001b[?25hInstalling collected packages: transformers\r\n",
      "  Attempting uninstall: transformers\r\n",
      "    Found existing installation: transformers 4.36.0\r\n",
      "    Uninstalling transformers-4.36.0:\r\n",
      "      Successfully uninstalled transformers-4.36.0\r\n",
      "Successfully installed transformers-4.36.1\r\n"
     ]
    },
    {
     "name": "stderr",
     "output_type": "stream",
     "text": [
      "/opt/conda/lib/python3.10/site-packages/scipy/__init__.py:146: UserWarning: A NumPy version >=1.16.5 and <1.23.0 is required for this version of SciPy (detected version 1.24.3\n",
      "  warnings.warn(f\"A NumPy version >={np_minversion} and <{np_maxversion}\"\n"
     ]
    }
   ],
   "source": [
    "!pip install transformers --upgrade\n",
    "import pandas as pd\n",
    "import torch\n",
    "from torch.utils.data import Dataset, DataLoader\n",
    "from transformers import AutoTokenizer, AutoModelForSequenceClassification\n",
    "from sklearn.model_selection import train_test_split\n",
    "from torch import cuda\n",
    "import time\n",
    "from torch.nn import DataParallel"
   ]
  },
  {
   "cell_type": "code",
   "execution_count": 2,
   "id": "98d570e6",
   "metadata": {
    "_cell_guid": "bdaee20c-499e-4c15-ae21-1ab68f9b1b5d",
    "_uuid": "518e8b57-a092-4731-a7d0-f85df8cc007b",
    "collapsed": false,
    "execution": {
     "iopub.execute_input": "2023-12-16T15:34:03.154557Z",
     "iopub.status.busy": "2023-12-16T15:34:03.154090Z",
     "iopub.status.idle": "2023-12-16T15:34:03.258553Z",
     "shell.execute_reply": "2023-12-16T15:34:03.257448Z"
    },
    "id": "ibiw-qSnHqwW",
    "jupyter": {
     "outputs_hidden": false
    },
    "papermill": {
     "duration": 0.120439,
     "end_time": "2023-12-16T15:34:03.261144",
     "exception": false,
     "start_time": "2023-12-16T15:34:03.140705",
     "status": "completed"
    },
    "tags": []
   },
   "outputs": [],
   "source": [
    "from torch import cuda\n",
    "device = 'cuda' if cuda.is_available() else 'cpu'"
   ]
  },
  {
   "cell_type": "code",
   "execution_count": 3,
   "id": "d9f486cf",
   "metadata": {
    "_cell_guid": "3cc962a2-aed1-491c-b01d-2c75c41b3e8d",
    "_uuid": "6b90e1f8-aed4-4019-b14d-94d3ed6bf1f5",
    "collapsed": false,
    "execution": {
     "iopub.execute_input": "2023-12-16T15:34:03.291743Z",
     "iopub.status.busy": "2023-12-16T15:34:03.290768Z",
     "iopub.status.idle": "2023-12-16T15:34:03.296183Z",
     "shell.execute_reply": "2023-12-16T15:34:03.295170Z"
    },
    "id": "m5oB534AHqwW",
    "jupyter": {
     "outputs_hidden": false
    },
    "papermill": {
     "duration": 0.022752,
     "end_time": "2023-12-16T15:34:03.298444",
     "exception": false,
     "start_time": "2023-12-16T15:34:03.275692",
     "status": "completed"
    },
    "tags": []
   },
   "outputs": [],
   "source": [
    "encoded_label_dict = {\"CG\" : 0, \"OR\" : 1}\n",
    "def encode_label(x):\n",
    "    return encoded_label_dict.get(x,-1)"
   ]
  },
  {
   "cell_type": "code",
   "execution_count": 4,
   "id": "845cc74f",
   "metadata": {
    "_cell_guid": "18cfe8b4-cb48-4f80-98b1-15b2e4c98328",
    "_uuid": "078dd970-659c-4340-86f3-c7f06477b541",
    "collapsed": false,
    "execution": {
     "iopub.execute_input": "2023-12-16T15:34:03.329788Z",
     "iopub.status.busy": "2023-12-16T15:34:03.329433Z",
     "iopub.status.idle": "2023-12-16T15:34:03.700626Z",
     "shell.execute_reply": "2023-12-16T15:34:03.699738Z"
    },
    "id": "L7pzb-l1HqwX",
    "jupyter": {
     "outputs_hidden": false
    },
    "papermill": {
     "duration": 0.389619,
     "end_time": "2023-12-16T15:34:03.703206",
     "exception": false,
     "start_time": "2023-12-16T15:34:03.313587",
     "status": "completed"
    },
    "tags": []
   },
   "outputs": [],
   "source": [
    "df = pd.read_csv(\"/kaggle/input/fake-reviews-dataset/fake reviews dataset.csv\")"
   ]
  },
  {
   "cell_type": "code",
   "execution_count": 5,
   "id": "65ea81a4",
   "metadata": {
    "_cell_guid": "e53838e7-c575-4835-b8db-abb731cada7b",
    "_uuid": "3da83614-d72f-46d9-a488-78b4452bab1b",
    "collapsed": false,
    "execution": {
     "iopub.execute_input": "2023-12-16T15:34:03.731629Z",
     "iopub.status.busy": "2023-12-16T15:34:03.731286Z",
     "iopub.status.idle": "2023-12-16T15:34:03.777244Z",
     "shell.execute_reply": "2023-12-16T15:34:03.776406Z"
    },
    "id": "8heLsh83HqwX",
    "jupyter": {
     "outputs_hidden": false
    },
    "papermill": {
     "duration": 0.061553,
     "end_time": "2023-12-16T15:34:03.779380",
     "exception": false,
     "start_time": "2023-12-16T15:34:03.717827",
     "status": "completed"
    },
    "tags": []
   },
   "outputs": [],
   "source": [
    "df[\"target\"] = df[\"label\"].apply(lambda x: encode_label(x))"
   ]
  },
  {
   "cell_type": "code",
   "execution_count": 6,
   "id": "6f5047df",
   "metadata": {
    "_cell_guid": "2a19e07c-0349-40cd-85ee-d5cb0777e22f",
    "_uuid": "f8fe086f-a408-4c0c-bdfb-7abf1558ca75",
    "collapsed": false,
    "execution": {
     "iopub.execute_input": "2023-12-16T15:34:03.806996Z",
     "iopub.status.busy": "2023-12-16T15:34:03.806644Z",
     "iopub.status.idle": "2023-12-16T15:34:03.811379Z",
     "shell.execute_reply": "2023-12-16T15:34:03.810506Z"
    },
    "id": "w6ott4b4ZAg0",
    "jupyter": {
     "outputs_hidden": false
    },
    "papermill": {
     "duration": 0.021151,
     "end_time": "2023-12-16T15:34:03.813631",
     "exception": false,
     "start_time": "2023-12-16T15:34:03.792480",
     "status": "completed"
    },
    "tags": []
   },
   "outputs": [],
   "source": [
    "model_name = \"microsoft/Multilingual-MiniLM-L12-H384\"\n",
    "\n",
    "MAX_LEN = 512 #maximum sequence length\n",
    "TRAIN_BATCH_SIZE = 32\n",
    "VALID_BATCH_SIZE = 32\n",
    "EPOCHS = 2\n",
    "LEARNING_RATE = 1e-05"
   ]
  },
  {
   "cell_type": "code",
   "execution_count": 7,
   "id": "d52fcfe6",
   "metadata": {
    "execution": {
     "iopub.execute_input": "2023-12-16T15:34:03.840355Z",
     "iopub.status.busy": "2023-12-16T15:34:03.840085Z",
     "iopub.status.idle": "2023-12-16T15:34:06.129497Z",
     "shell.execute_reply": "2023-12-16T15:34:06.128440Z"
    },
    "papermill": {
     "duration": 2.305584,
     "end_time": "2023-12-16T15:34:06.132198",
     "exception": false,
     "start_time": "2023-12-16T15:34:03.826614",
     "status": "completed"
    },
    "tags": []
   },
   "outputs": [
    {
     "data": {
      "application/vnd.jupyter.widget-view+json": {
       "model_id": "201371ce9d4549508bf26c31802efb6f",
       "version_major": 2,
       "version_minor": 0
      },
      "text/plain": [
       "tokenizer_config.json:   0%|          | 0.00/2.00 [00:00<?, ?B/s]"
      ]
     },
     "metadata": {},
     "output_type": "display_data"
    },
    {
     "data": {
      "application/vnd.jupyter.widget-view+json": {
       "model_id": "a7f3e2b5fe36422380c24a349f9dcaa0",
       "version_major": 2,
       "version_minor": 0
      },
      "text/plain": [
       "config.json:   0%|          | 0.00/430 [00:00<?, ?B/s]"
      ]
     },
     "metadata": {},
     "output_type": "display_data"
    },
    {
     "data": {
      "application/vnd.jupyter.widget-view+json": {
       "model_id": "550a376b52ae4e50b09a8e0cdfc2698a",
       "version_major": 2,
       "version_minor": 0
      },
      "text/plain": [
       "sentencepiece.bpe.model:   0%|          | 0.00/5.07M [00:00<?, ?B/s]"
      ]
     },
     "metadata": {},
     "output_type": "display_data"
    },
    {
     "data": {
      "application/vnd.jupyter.widget-view+json": {
       "model_id": "4fc233931547489c92223c60767181b3",
       "version_major": 2,
       "version_minor": 0
      },
      "text/plain": [
       "special_tokens_map.json:   0%|          | 0.00/150 [00:00<?, ?B/s]"
      ]
     },
     "metadata": {},
     "output_type": "display_data"
    }
   ],
   "source": [
    "tokenizer = AutoTokenizer.from_pretrained(\"microsoft/Multilingual-MiniLM-L12-H384\", use_fast = False)"
   ]
  },
  {
   "cell_type": "code",
   "execution_count": 8,
   "id": "6a7a25a0",
   "metadata": {
    "_cell_guid": "4dc58eb8-221e-4f0d-8436-f9d852ec98d6",
    "_uuid": "f09628d1-740e-47c7-88b8-8132144b9443",
    "collapsed": false,
    "execution": {
     "iopub.execute_input": "2023-12-16T15:34:06.162770Z",
     "iopub.status.busy": "2023-12-16T15:34:06.162360Z",
     "iopub.status.idle": "2023-12-16T15:34:06.172073Z",
     "shell.execute_reply": "2023-12-16T15:34:06.170899Z"
    },
    "id": "iEYMSt4dHqwX",
    "jupyter": {
     "outputs_hidden": false
    },
    "papermill": {
     "duration": 0.02755,
     "end_time": "2023-12-16T15:34:06.174337",
     "exception": false,
     "start_time": "2023-12-16T15:34:06.146787",
     "status": "completed"
    },
    "scrolled": true,
    "tags": []
   },
   "outputs": [],
   "source": [
    "\n",
    "class Triage(Dataset):\n",
    "    def __init__(self, dataframe, tokenizer, max_len):\n",
    "        self.len = len(dataframe)\n",
    "        self.data = dataframe\n",
    "        self.tokenizer = tokenizer\n",
    "        self.max_len = max_len\n",
    "\n",
    "    def __getitem__(self, index):\n",
    "        text = str(self.data.text_[index])\n",
    "        text = \" \".join(text.split())\n",
    "        inputs = self.tokenizer.encode_plus(\n",
    "            text,\n",
    "            add_special_tokens=True,\n",
    "            max_length=self.max_len,\n",
    "            pad_to_max_length=True,\n",
    "            return_token_type_ids=True,\n",
    "            truncation=True\n",
    "        )\n",
    "        ids = inputs['input_ids']\n",
    "        mask = inputs['attention_mask']\n",
    "\n",
    "        return {\n",
    "            'ids': torch.tensor(ids, dtype=torch.long),\n",
    "            'mask': torch.tensor(mask, dtype=torch.long),\n",
    "            'targets': torch.tensor(self.data.target[index], dtype=torch.long)\n",
    "        }\n",
    "\n",
    "    def __len__(self):\n",
    "        return self.len"
   ]
  },
  {
   "cell_type": "code",
   "execution_count": 9,
   "id": "667e3697",
   "metadata": {
    "_cell_guid": "42a296cd-0f03-48da-8eeb-567c9701cfd6",
    "_uuid": "0373b1cd-f093-4884-8ce1-3d8a0cc801f5",
    "collapsed": false,
    "execution": {
     "iopub.execute_input": "2023-12-16T15:34:06.204245Z",
     "iopub.status.busy": "2023-12-16T15:34:06.203876Z",
     "iopub.status.idle": "2023-12-16T15:34:06.230131Z",
     "shell.execute_reply": "2023-12-16T15:34:06.228782Z"
    },
    "id": "rn6qFvnOHqwY",
    "jupyter": {
     "outputs_hidden": false
    },
    "outputId": "d1b4f5d9-1c2c-441d-fe3f-c276068cec7d",
    "papermill": {
     "duration": 0.043366,
     "end_time": "2023-12-16T15:34:06.232366",
     "exception": false,
     "start_time": "2023-12-16T15:34:06.189000",
     "status": "completed"
    },
    "tags": []
   },
   "outputs": [
    {
     "name": "stdout",
     "output_type": "stream",
     "text": [
      "FULL Dataset: (40432, 5)\n",
      "TRAIN Dataset: (32345, 5)\n",
      "VALID Dataset: (8087, 5)\n"
     ]
    }
   ],
   "source": [
    "# Creating the dataset and dataloader\n",
    "train_dataset, valid_dataset = train_test_split(df, test_size=0.2, shuffle=True, stratify=None, random_state=2021)\n",
    "train_dataset = train_dataset.reset_index(drop=True)\n",
    "valid_dataset = valid_dataset.reset_index(drop=True)\n",
    "\n",
    "print(\"FULL Dataset: {}\".format(df.shape))\n",
    "print(\"TRAIN Dataset: {}\".format(train_dataset.shape))\n",
    "print(\"VALID Dataset: {}\".format(valid_dataset.shape))\n",
    "\n",
    "training_set = Triage(train_dataset, tokenizer, MAX_LEN)\n",
    "testing_set = Triage(valid_dataset, tokenizer, MAX_LEN)"
   ]
  },
  {
   "cell_type": "code",
   "execution_count": 10,
   "id": "03b49ecf",
   "metadata": {
    "_cell_guid": "b0d8f752-3076-4195-b253-6009e87c43c9",
    "_uuid": "15837ffc-ec39-4eee-8aea-dcaa2744edca",
    "collapsed": false,
    "execution": {
     "iopub.execute_input": "2023-12-16T15:34:06.262053Z",
     "iopub.status.busy": "2023-12-16T15:34:06.261632Z",
     "iopub.status.idle": "2023-12-16T15:34:06.267822Z",
     "shell.execute_reply": "2023-12-16T15:34:06.266980Z"
    },
    "id": "r5pGVEB8HqwZ",
    "jupyter": {
     "outputs_hidden": false
    },
    "papermill": {
     "duration": 0.023438,
     "end_time": "2023-12-16T15:34:06.270060",
     "exception": false,
     "start_time": "2023-12-16T15:34:06.246622",
     "status": "completed"
    },
    "tags": []
   },
   "outputs": [],
   "source": [
    "train_params = {'batch_size': TRAIN_BATCH_SIZE,\n",
    "                'shuffle': True,\n",
    "                'num_workers': 0\n",
    "                }\n",
    "\n",
    "valid_params = {'batch_size': VALID_BATCH_SIZE,\n",
    "                'shuffle': True,\n",
    "                'num_workers': 0\n",
    "                }\n",
    "\n",
    "training_loader = DataLoader(training_set, **train_params)\n",
    "testing_loader = DataLoader(testing_set, **valid_params)"
   ]
  },
  {
   "cell_type": "code",
   "execution_count": 11,
   "id": "ad34b216",
   "metadata": {
    "_cell_guid": "698b0338-67c2-40ae-876d-a66b24143370",
    "_uuid": "e0eba2aa-963e-4fec-9d2f-5fc5b5633cc8",
    "collapsed": false,
    "execution": {
     "iopub.execute_input": "2023-12-16T15:34:06.300509Z",
     "iopub.status.busy": "2023-12-16T15:34:06.300126Z",
     "iopub.status.idle": "2023-12-16T15:34:15.503776Z",
     "shell.execute_reply": "2023-12-16T15:34:15.502620Z"
    },
    "id": "s90EAQBdHqwZ",
    "jupyter": {
     "outputs_hidden": false
    },
    "outputId": "f164393f-420c-409b-a06d-4c5a728799ea",
    "papermill": {
     "duration": 9.22116,
     "end_time": "2023-12-16T15:34:15.506426",
     "exception": false,
     "start_time": "2023-12-16T15:34:06.285266",
     "status": "completed"
    },
    "tags": []
   },
   "outputs": [
    {
     "data": {
      "application/vnd.jupyter.widget-view+json": {
       "model_id": "95579bd07b26476ebc07a7760631ba42",
       "version_major": 2,
       "version_minor": 0
      },
      "text/plain": [
       "pytorch_model.bin:   0%|          | 0.00/471M [00:00<?, ?B/s]"
      ]
     },
     "metadata": {},
     "output_type": "display_data"
    },
    {
     "name": "stderr",
     "output_type": "stream",
     "text": [
      "Some weights of BertForSequenceClassification were not initialized from the model checkpoint at microsoft/Multilingual-MiniLM-L12-H384 and are newly initialized: ['classifier.weight', 'classifier.bias']\n",
      "You should probably TRAIN this model on a down-stream task to be able to use it for predictions and inference.\n"
     ]
    },
    {
     "data": {
      "text/plain": [
       "DataParallel(\n",
       "  (module): BertForSequenceClassification(\n",
       "    (bert): BertModel(\n",
       "      (embeddings): BertEmbeddings(\n",
       "        (word_embeddings): Embedding(250037, 384, padding_idx=0)\n",
       "        (position_embeddings): Embedding(512, 384)\n",
       "        (token_type_embeddings): Embedding(2, 384)\n",
       "        (LayerNorm): LayerNorm((384,), eps=1e-12, elementwise_affine=True)\n",
       "        (dropout): Dropout(p=0.1, inplace=False)\n",
       "      )\n",
       "      (encoder): BertEncoder(\n",
       "        (layer): ModuleList(\n",
       "          (0-11): 12 x BertLayer(\n",
       "            (attention): BertAttention(\n",
       "              (self): BertSelfAttention(\n",
       "                (query): Linear(in_features=384, out_features=384, bias=True)\n",
       "                (key): Linear(in_features=384, out_features=384, bias=True)\n",
       "                (value): Linear(in_features=384, out_features=384, bias=True)\n",
       "                (dropout): Dropout(p=0.1, inplace=False)\n",
       "              )\n",
       "              (output): BertSelfOutput(\n",
       "                (dense): Linear(in_features=384, out_features=384, bias=True)\n",
       "                (LayerNorm): LayerNorm((384,), eps=1e-12, elementwise_affine=True)\n",
       "                (dropout): Dropout(p=0.1, inplace=False)\n",
       "              )\n",
       "            )\n",
       "            (intermediate): BertIntermediate(\n",
       "              (dense): Linear(in_features=384, out_features=1536, bias=True)\n",
       "              (intermediate_act_fn): GELUActivation()\n",
       "            )\n",
       "            (output): BertOutput(\n",
       "              (dense): Linear(in_features=1536, out_features=384, bias=True)\n",
       "              (LayerNorm): LayerNorm((384,), eps=1e-12, elementwise_affine=True)\n",
       "              (dropout): Dropout(p=0.1, inplace=False)\n",
       "            )\n",
       "          )\n",
       "        )\n",
       "      )\n",
       "      (pooler): BertPooler(\n",
       "        (dense): Linear(in_features=384, out_features=384, bias=True)\n",
       "        (activation): Tanh()\n",
       "      )\n",
       "    )\n",
       "    (dropout): Dropout(p=0.1, inplace=False)\n",
       "    (classifier): Linear(in_features=384, out_features=2, bias=True)\n",
       "  )\n",
       ")"
      ]
     },
     "execution_count": 11,
     "metadata": {},
     "output_type": "execute_result"
    }
   ],
   "source": [
    "model = AutoModelForSequenceClassification.from_pretrained(model_name)\n",
    "model = DataParallel(model)\n",
    "model.to(device)"
   ]
  },
  {
   "cell_type": "code",
   "execution_count": 12,
   "id": "64951c90",
   "metadata": {
    "_cell_guid": "63e2713f-016a-43df-a57e-757e2db7d2bf",
    "_uuid": "c8650480-da52-4358-851b-0ddfaf53af84",
    "collapsed": false,
    "execution": {
     "iopub.execute_input": "2023-12-16T15:34:15.539276Z",
     "iopub.status.busy": "2023-12-16T15:34:15.538691Z",
     "iopub.status.idle": "2023-12-16T15:34:15.545526Z",
     "shell.execute_reply": "2023-12-16T15:34:15.544464Z"
    },
    "id": "uGEUeQFYHqwZ",
    "jupyter": {
     "outputs_hidden": false
    },
    "papermill": {
     "duration": 0.025667,
     "end_time": "2023-12-16T15:34:15.547760",
     "exception": false,
     "start_time": "2023-12-16T15:34:15.522093",
     "status": "completed"
    },
    "tags": []
   },
   "outputs": [],
   "source": [
    "# Creating the optimizer\n",
    "optimizer = torch.optim.Adam(params=model.parameters(), lr=LEARNING_RATE)"
   ]
  },
  {
   "cell_type": "code",
   "execution_count": 13,
   "id": "3bd4c435",
   "metadata": {
    "_cell_guid": "55c1cdcd-64c9-40b6-ae17-8916efcf5e8d",
    "_uuid": "8f8cc478-4de8-458a-81b0-031bb5e42420",
    "collapsed": false,
    "execution": {
     "iopub.execute_input": "2023-12-16T15:34:15.580369Z",
     "iopub.status.busy": "2023-12-16T15:34:15.579976Z",
     "iopub.status.idle": "2023-12-16T15:34:15.585319Z",
     "shell.execute_reply": "2023-12-16T15:34:15.584240Z"
    },
    "id": "tt-i7CWBHqwZ",
    "jupyter": {
     "outputs_hidden": false
    },
    "papermill": {
     "duration": 0.024175,
     "end_time": "2023-12-16T15:34:15.587758",
     "exception": false,
     "start_time": "2023-12-16T15:34:15.563583",
     "status": "completed"
    },
    "tags": []
   },
   "outputs": [],
   "source": [
    "# Function to calcuate the accuracy of the model\n",
    "def calcuate_accu(big_idx, targets):\n",
    "    n_correct = (big_idx==targets).sum().item()\n",
    "    return n_correct"
   ]
  },
  {
   "cell_type": "code",
   "execution_count": 14,
   "id": "0075aeda",
   "metadata": {
    "_cell_guid": "677fd368-9d89-4d1f-b549-fd20c2503540",
    "_uuid": "2c29c6a1-93a8-481f-83a6-1f991a5176d9",
    "collapsed": false,
    "execution": {
     "iopub.execute_input": "2023-12-16T15:34:15.619458Z",
     "iopub.status.busy": "2023-12-16T15:34:15.619083Z",
     "iopub.status.idle": "2023-12-16T15:34:15.630588Z",
     "shell.execute_reply": "2023-12-16T15:34:15.629664Z"
    },
    "jupyter": {
     "outputs_hidden": false
    },
    "papermill": {
     "duration": 0.030047,
     "end_time": "2023-12-16T15:34:15.632775",
     "exception": false,
     "start_time": "2023-12-16T15:34:15.602728",
     "status": "completed"
    },
    "tags": []
   },
   "outputs": [],
   "source": [
    "import time\n",
    "\n",
    "def train(epoch):\n",
    "    model.train()\n",
    "    tr_loss = 0\n",
    "    n_correct = 0\n",
    "    nb_tr_steps = 0\n",
    "    nb_tr_examples = 0\n",
    "    start_time = time.time()\n",
    "\n",
    "    for step, data in enumerate(training_loader, 0):\n",
    "        ids = data['ids'].to(device, dtype=torch.long)\n",
    "        mask = data['mask'].to(device, dtype=torch.long)\n",
    "        targets = data['targets'].to(device, dtype=torch.long)\n",
    "\n",
    "        optimizer.zero_grad()\n",
    "        outputs = model(ids, attention_mask=mask, labels=targets)\n",
    "        loss = outputs.loss\n",
    "\n",
    "        if loss.dim() > 0:\n",
    "            loss = loss.mean()\n",
    "\n",
    "        tr_loss += loss.item()\n",
    "        logits = outputs.logits\n",
    "        big_val, big_idx = torch.max(logits, dim=1)\n",
    "        n_correct += calcuate_accu(big_idx, targets)\n",
    "\n",
    "        nb_tr_steps += 1\n",
    "        nb_tr_examples += targets.size(0)\n",
    "\n",
    "        loss.backward()\n",
    "        optimizer.step()\n",
    "\n",
    "        # Print metrics every 100 steps\n",
    "        if (step + 1) % 100 == 0:\n",
    "            interim_loss = tr_loss / nb_tr_steps\n",
    "            interim_acc = (n_correct * 100) / nb_tr_examples\n",
    "            print(f\"Epoch {epoch}, Step {step+1} - Training Loss: {interim_loss}, Training Accuracy: {interim_acc}%\")\n",
    "\n",
    "    elapsed_time = time.time() - start_time\n",
    "    epoch_loss = tr_loss / nb_tr_steps\n",
    "    epoch_acc = (n_correct * 100) / nb_tr_examples\n",
    "    print(f\"Epoch {epoch} Completed - Average Loss: {epoch_loss}, Average Accuracy: {epoch_acc}%, Time: {elapsed_time:.2f} seconds\")\n",
    "\n",
    "    return epoch_loss, epoch_acc"
   ]
  },
  {
   "cell_type": "code",
   "execution_count": 15,
   "id": "d590b5e9",
   "metadata": {
    "_cell_guid": "2524aa68-31d9-454f-8b6a-a82a65f355e7",
    "_uuid": "640ee363-59d3-4046-9a04-1347938dbb61",
    "collapsed": false,
    "execution": {
     "iopub.execute_input": "2023-12-16T15:34:15.664322Z",
     "iopub.status.busy": "2023-12-16T15:34:15.663927Z",
     "iopub.status.idle": "2023-12-16T15:34:15.674226Z",
     "shell.execute_reply": "2023-12-16T15:34:15.673311Z"
    },
    "id": "PL0IJ9BJHqwZ",
    "jupyter": {
     "outputs_hidden": false
    },
    "papermill": {
     "duration": 0.028568,
     "end_time": "2023-12-16T15:34:15.676415",
     "exception": false,
     "start_time": "2023-12-16T15:34:15.647847",
     "status": "completed"
    },
    "tags": []
   },
   "outputs": [],
   "source": [
    "def valid(model, testing_loader):\n",
    "    model.eval()\n",
    "    n_correct = 0\n",
    "    n_wrong = 0\n",
    "    total = 0\n",
    "    tr_loss = 0\n",
    "    nb_tr_steps = 0\n",
    "    nb_tr_examples = 0\n",
    "    with torch.no_grad():\n",
    "        for _, data in enumerate(testing_loader, 0):\n",
    "            ids = data['ids'].to(device, dtype = torch.long)\n",
    "            mask = data['mask'].to(device, dtype = torch.long)\n",
    "            targets = data['targets'].to(device, dtype = torch.long)\n",
    "            outputs = model(ids, attention_mask=mask, labels=targets)\n",
    "            loss = outputs.loss\n",
    "            logits = outputs.logits\n",
    "            tr_loss += loss\n",
    "            big_val, big_idx = torch.max(logits, dim=1)\n",
    "            n_correct += calcuate_accu(big_idx, targets)\n",
    "\n",
    "            nb_tr_steps += 1\n",
    "            nb_tr_examples+=targets.size(0)\n",
    "\n",
    "            if _!=0 and _%100==0:\n",
    "                loss_step = tr_loss/nb_tr_steps\n",
    "                accu_step = (n_correct*100)/nb_tr_examples\n",
    "                print(f\"Validation Loss per 100 steps: {loss_step}\")\n",
    "                print(f\"Validation Accuracy per 100 steps: {accu_step}\")\n",
    "    epoch_loss = tr_loss/nb_tr_steps\n",
    "    epoch_accu = (n_correct*100)/nb_tr_examples\n",
    "    print(f\"Validation Loss Epoch: {epoch_loss}\")\n",
    "    print(f\"Validation Accuracy Epoch: {epoch_accu}\")\n",
    "\n",
    "    return epoch_accu"
   ]
  },
  {
   "cell_type": "code",
   "execution_count": 16,
   "id": "9681d907",
   "metadata": {
    "_cell_guid": "fea02f00-9a72-4e36-8633-7c7ba5d88d9a",
    "_uuid": "8a7cd20e-d2e6-4ff1-93e5-afd1d12ec358",
    "collapsed": false,
    "execution": {
     "iopub.execute_input": "2023-12-16T15:34:15.758391Z",
     "iopub.status.busy": "2023-12-16T15:34:15.757474Z",
     "iopub.status.idle": "2023-12-16T15:34:15.764197Z",
     "shell.execute_reply": "2023-12-16T15:34:15.763170Z"
    },
    "id": "XTurIxk0HqwZ",
    "jupyter": {
     "outputs_hidden": false
    },
    "outputId": "39412f6e-f326-4013-dabb-3cd3085a3a5d",
    "papermill": {
     "duration": 0.025589,
     "end_time": "2023-12-16T15:34:15.766441",
     "exception": false,
     "start_time": "2023-12-16T15:34:15.740852",
     "status": "completed"
    },
    "tags": []
   },
   "outputs": [
    {
     "data": {
      "text/plain": [
       "1"
      ]
     },
     "execution_count": 16,
     "metadata": {},
     "output_type": "execute_result"
    }
   ],
   "source": [
    "tokenizer.pad_token_id"
   ]
  },
  {
   "cell_type": "code",
   "execution_count": 17,
   "id": "1c9be72a",
   "metadata": {
    "_cell_guid": "a1e89177-bae8-49cb-88c2-378e8fe33a56",
    "_uuid": "a8ea6f5c-2941-42e1-9bf8-61e5ef0d6a87",
    "collapsed": false,
    "execution": {
     "iopub.execute_input": "2023-12-16T15:34:15.798547Z",
     "iopub.status.busy": "2023-12-16T15:34:15.798174Z",
     "iopub.status.idle": "2023-12-16T16:01:47.781150Z",
     "shell.execute_reply": "2023-12-16T16:01:47.779836Z"
    },
    "id": "BGJHgALVdELJ",
    "jupyter": {
     "outputs_hidden": false
    },
    "outputId": "d072a756-a261-4aac-ab49-3e2ff8bea95d",
    "papermill": {
     "duration": 1652.017767,
     "end_time": "2023-12-16T16:01:47.799432",
     "exception": false,
     "start_time": "2023-12-16T15:34:15.781665",
     "status": "completed"
    },
    "tags": []
   },
   "outputs": [
    {
     "name": "stderr",
     "output_type": "stream",
     "text": [
      "/opt/conda/lib/python3.10/site-packages/transformers/tokenization_utils_base.py:2618: FutureWarning: The `pad_to_max_length` argument is deprecated and will be removed in a future version, use `padding=True` or `padding='longest'` to pad to the longest sequence in the batch, or use `padding='max_length'` to pad to a max length. In this case, you can give a specific length with `max_length` (e.g. `max_length=45`) or leave max_length to None to pad to the maximal input size of the model (e.g. 512 for Bert).\n",
      "  warnings.warn(\n",
      "/opt/conda/lib/python3.10/site-packages/torch/nn/parallel/_functions.py:68: UserWarning: Was asked to gather along dimension 0, but all input tensors were scalars; will instead unsqueeze and return a vector.\n",
      "  warnings.warn('Was asked to gather along dimension 0, but all '\n",
      "/opt/conda/lib/python3.10/site-packages/transformers/tokenization_utils_base.py:2618: FutureWarning: The `pad_to_max_length` argument is deprecated and will be removed in a future version, use `padding=True` or `padding='longest'` to pad to the longest sequence in the batch, or use `padding='max_length'` to pad to a max length. In this case, you can give a specific length with `max_length` (e.g. `max_length=45`) or leave max_length to None to pad to the maximal input size of the model (e.g. 512 for Bert).\n",
      "  warnings.warn(\n"
     ]
    },
    {
     "name": "stdout",
     "output_type": "stream",
     "text": [
      "Epoch 0, Step 100 - Training Loss: 0.6087030056118965, Training Accuracy: 67.21875%\n",
      "Epoch 0, Step 200 - Training Loss: 0.44240451823920013, Training Accuracy: 79.921875%\n",
      "Epoch 0, Step 300 - Training Loss: 0.3668730198343595, Training Accuracy: 84.375%\n",
      "Epoch 0, Step 400 - Training Loss: 0.3176310180220753, Training Accuracy: 86.8671875%\n",
      "Epoch 0, Step 500 - Training Loss: 0.2816296299546957, Training Accuracy: 88.6%\n",
      "Epoch 0, Step 600 - Training Loss: 0.2579029723722488, Training Accuracy: 89.59895833333333%\n",
      "Epoch 0, Step 700 - Training Loss: 0.23855389082804324, Training Accuracy: 90.375%\n",
      "Epoch 0, Step 800 - Training Loss: 0.22220502716489135, Training Accuracy: 91.05859375%\n",
      "Epoch 0, Step 900 - Training Loss: 0.2082785477851414, Training Accuracy: 91.61458333333333%\n",
      "Epoch 0, Step 1000 - Training Loss: 0.1963037560591474, Training Accuracy: 92.128125%\n",
      "Epoch 0 Completed - Average Loss: 0.1950034942675076, Average Accuracy: 92.18426341010975%, Time: 763.60 seconds\n",
      "Validation Loss per 100 steps: tensor([0.1140, 0.1386], device='cuda:0')\n",
      "Validation Accuracy per 100 steps: 94.67821782178218\n",
      "Validation Loss per 100 steps: tensor([0.1178, 0.1358], device='cuda:0')\n",
      "Validation Accuracy per 100 steps: 94.57400497512438\n",
      "Validation Loss Epoch: tensor([0.1178, 0.1345], device='cuda:0')\n",
      "Validation Accuracy Epoch: 94.53443798689254\n",
      "Accuracy on validation data for epoch 0 = 94.53%\n",
      "Epoch 1, Step 100 - Training Loss: 0.08116129601374268, Training Accuracy: 96.9375%\n",
      "Epoch 1, Step 200 - Training Loss: 0.08553170033730567, Training Accuracy: 96.796875%\n",
      "Epoch 1, Step 300 - Training Loss: 0.08109305064814785, Training Accuracy: 96.92708333333333%\n",
      "Epoch 1, Step 400 - Training Loss: 0.07890804543276317, Training Accuracy: 97.015625%\n",
      "Epoch 1, Step 500 - Training Loss: 0.07588946982100606, Training Accuracy: 97.1625%\n",
      "Epoch 1, Step 600 - Training Loss: 0.07420484025031328, Training Accuracy: 97.24479166666667%\n",
      "Epoch 1, Step 700 - Training Loss: 0.07347926987767486, Training Accuracy: 97.27232142857143%\n",
      "Epoch 1, Step 800 - Training Loss: 0.07431076124048559, Training Accuracy: 97.1875%\n",
      "Epoch 1, Step 900 - Training Loss: 0.07196890831511053, Training Accuracy: 97.28125%\n",
      "Epoch 1, Step 1000 - Training Loss: 0.07184898945083841, Training Accuracy: 97.290625%\n",
      "Epoch 1 Completed - Average Loss: 0.07155617636247998, Average Accuracy: 97.29479053949606%, Time: 739.89 seconds\n",
      "Validation Loss per 100 steps: tensor([0.0664, 0.0498], device='cuda:0')\n",
      "Validation Accuracy per 100 steps: 97.95792079207921\n",
      "Validation Loss per 100 steps: tensor([0.0665, 0.0597], device='cuda:0')\n",
      "Validation Accuracy per 100 steps: 97.68345771144278\n",
      "Validation Loss Epoch: tensor([0.0700, 0.0647], device='cuda:0')\n",
      "Validation Accuracy Epoch: 97.45270186719426\n",
      "Accuracy on validation data for epoch 1 = 97.45%\n"
     ]
    }
   ],
   "source": [
    "for epoch in range(EPOCHS):\n",
    "    train(epoch)\n",
    "    acc = valid(model, testing_loader)\n",
    "    print(\"Accuracy on validation data for epoch %d = %0.2f%%\" % (epoch, acc))"
   ]
  },
  {
   "cell_type": "code",
   "execution_count": 18,
   "id": "7a74ec99",
   "metadata": {
    "_cell_guid": "957ce7a4-a10a-4a3f-b8d5-2d1192d7bcb9",
    "_uuid": "1afd3935-a941-4dd3-839e-72595e12cfac",
    "collapsed": false,
    "execution": {
     "iopub.execute_input": "2023-12-16T16:01:47.834081Z",
     "iopub.status.busy": "2023-12-16T16:01:47.833435Z",
     "iopub.status.idle": "2023-12-16T16:01:48.752908Z",
     "shell.execute_reply": "2023-12-16T16:01:48.751798Z"
    },
    "id": "l2B_50_WHqwa",
    "jupyter": {
     "outputs_hidden": false
    },
    "papermill": {
     "duration": 0.939142,
     "end_time": "2023-12-16T16:01:48.755237",
     "exception": false,
     "start_time": "2023-12-16T16:01:47.816095",
     "status": "completed"
    },
    "tags": []
   },
   "outputs": [
    {
     "name": "stdout",
     "output_type": "stream",
     "text": [
      "All files saved\n"
     ]
    }
   ],
   "source": [
    "# Save the model\n",
    "output_model_file = '/kaggle/working/ft-miniLM-amazonreviews.pt'\n",
    "\n",
    "model_to_save = model\n",
    "torch.save(model_to_save, output_model_file)\n",
    "\n",
    "print('All files saved')"
   ]
  },
  {
   "cell_type": "markdown",
   "id": "ea73289e",
   "metadata": {
    "_cell_guid": "3ede029f-b9fd-4e61-9707-54c90d02225a",
    "_uuid": "209b2c6f-0e56-4137-861c-ed4e9de76f11",
    "id": "ARivpmTiHqwa",
    "papermill": {
     "duration": 0.017155,
     "end_time": "2023-12-16T16:01:48.789156",
     "exception": false,
     "start_time": "2023-12-16T16:01:48.772001",
     "status": "completed"
    },
    "tags": []
   },
   "source": [
    "#### Inference"
   ]
  },
  {
   "cell_type": "code",
   "execution_count": 19,
   "id": "1f612f55",
   "metadata": {
    "_cell_guid": "673d7857-bd7d-48c9-8d5b-1e0eadc411ec",
    "_uuid": "2936d4bd-e7fb-41db-84de-a4d8e3dfd883",
    "collapsed": false,
    "execution": {
     "iopub.execute_input": "2023-12-16T16:01:48.825433Z",
     "iopub.status.busy": "2023-12-16T16:01:48.825077Z",
     "iopub.status.idle": "2023-12-16T16:01:49.233273Z",
     "shell.execute_reply": "2023-12-16T16:01:49.232393Z"
    },
    "id": "GXosfVtmHqwa",
    "jupyter": {
     "outputs_hidden": false
    },
    "papermill": {
     "duration": 0.428379,
     "end_time": "2023-12-16T16:01:49.235724",
     "exception": false,
     "start_time": "2023-12-16T16:01:48.807345",
     "status": "completed"
    },
    "tags": []
   },
   "outputs": [],
   "source": [
    "model = torch.load('/kaggle/working/ft-miniLM-amazonreviews.pt')"
   ]
  },
  {
   "cell_type": "code",
   "execution_count": 20,
   "id": "5d55e64f",
   "metadata": {
    "_cell_guid": "cc25b903-5b1e-45d2-b784-a2f2993fa8c3",
    "_uuid": "9ca019cb-fe08-482f-8fc7-b33c7c8fcd87",
    "collapsed": false,
    "execution": {
     "iopub.execute_input": "2023-12-16T16:01:49.268749Z",
     "iopub.status.busy": "2023-12-16T16:01:49.268460Z",
     "iopub.status.idle": "2023-12-16T16:01:49.361060Z",
     "shell.execute_reply": "2023-12-16T16:01:49.359956Z"
    },
    "id": "Rzgiw2WyHqwa",
    "jupyter": {
     "outputs_hidden": false
    },
    "papermill": {
     "duration": 0.11154,
     "end_time": "2023-12-16T16:01:49.363186",
     "exception": false,
     "start_time": "2023-12-16T16:01:49.251646",
     "status": "completed"
    },
    "tags": []
   },
   "outputs": [
    {
     "name": "stdout",
     "output_type": "stream",
     "text": [
      "Real Probability: 0.9968416690826416\n",
      "Fake Probability: 0.0031583316158503294\n"
     ]
    }
   ],
   "source": [
    "device=\"cuda\"\n",
    "query = \"\"\"I work in the wedding industry and have to work long days, on my feet, outside in the heat, and have to look professional. I've spent a ridiculous amount of money on high end dress shoes like Merrels and just have not been able to find a pair that are comfortable to wear all day. Both for my feet and my back. Enter the Sanuk yoga sling!!! These shoes are amazingly comfortable. Though, I will admit it took a few wears to get used to the feel of the yoga matte bottom. At first, it felt a little \"sticky\" to me, and the fabric part that goes through the toe area was a little thick and took some getting used to. I wore them for a few days before taking them out on a job and I can't get over how comfortable they are. Ii have been wearing these shoes now for 3 months, every work day and I am THRILLED. No more back pain, no more sore feet. I also wear these sometimes during my off time,mans every time I wear them, I get compliments on how cute and comfortable they look. The great thing about these shoes is the yoga matte bottom. It helps your feet grip to the shoe a bit, so your foot can just walk normally, without having to grip the shoe. You may not realize it, but with a lot of Sandals, your foot is having to work to keep the shoe on, changing the way you walk and stand and ultimately causing foot and back pain. Not with these! Also, the soft linen sits comfortably on your skin and breathes nicely in the heat. The only downside is the funky tan lines, which is why I am sure to alternate shoes on my days off, especially if I plan to be outside for most of the day. If it were not for that, I think these might be the only shoes I'd wear all summer. If you are looking for a reasonable priced, comfortable shoe that you can wear and walk in all day.\"\"\"\n",
    "tokens = tokenizer.encode(query,return_tensors=\"pt\")\n",
    "all_tokens = len(tokens)\n",
    "mask = torch.ones_like(tokens)\n",
    "\n",
    "with torch.no_grad():\n",
    "    logits = model(tokens.to(device), attention_mask=mask.to(device))[0]\n",
    "    probs = logits.softmax(dim=-1)\n",
    "\n",
    "fake, real = probs.detach().cpu().flatten().numpy().tolist()\n",
    "\n",
    "print(f\"Real Probability: {real}\\nFake Probability: {fake}\")"
   ]
  },
  {
   "cell_type": "code",
   "execution_count": 21,
   "id": "8d898a6c",
   "metadata": {
    "_cell_guid": "1b154eea-2505-464e-a788-210ff0f39922",
    "_uuid": "ffb55369-e803-4767-b68b-6f39626b011f",
    "collapsed": false,
    "execution": {
     "iopub.execute_input": "2023-12-16T16:01:49.395744Z",
     "iopub.status.busy": "2023-12-16T16:01:49.395470Z",
     "iopub.status.idle": "2023-12-16T16:01:49.435057Z",
     "shell.execute_reply": "2023-12-16T16:01:49.434005Z"
    },
    "id": "lO1BJCCkHqwa",
    "jupyter": {
     "outputs_hidden": false
    },
    "papermill": {
     "duration": 0.058012,
     "end_time": "2023-12-16T16:01:49.437013",
     "exception": false,
     "start_time": "2023-12-16T16:01:49.379001",
     "status": "completed"
    },
    "tags": []
   },
   "outputs": [
    {
     "name": "stdout",
     "output_type": "stream",
     "text": [
      "Real Probability: 0.002003108151257038\n",
      "Fake Probability: 0.9979968667030334\n"
     ]
    }
   ],
   "source": [
    "device=\"cuda\"\n",
    "query = \"\"\"My old bet was wearing this to the Macy's in January.  This is the first one I've ever had.  I am a 32D, and the first pair I bought were just a little tight.  I'm a bit disappointed.  This is my second pair.  I'm looking forward to wearing them to the Macy's in the fall.  I like the way they look.Love these!These are my favorite.  I have a hard time finding jeans that fit me comfortably, but I have a hard time finding jeans that don't fit.  These jeans are super comfortable and have a great price point.  I have some great jeans to wear for work, but these are the only jeans that I wear for work or for my family.  I will be buying more!  I have a lot of compliments on them.I love these shoes. I love the color and the fit. They fit my body well and are comfortable. I have a wide foot and these fit me well.\n",
    "\n",
    "I'm 5'4\", 130lbs and these fit well. I would recommend them.I wear a size 11.5 in jeans and this fits perfect. I have a narrow foot and this fits perfect. It is very comfortable and fits great. I bought a small and it fit perfectly. I will order another size up.I bought these for my husband, he loves them and he loves them!This is the best pair of sunglasses for the price!  They are so comfortable and easy to use.  I wear them all the time and they don't hurt my feet.  I wear them everyday and my feet are so happy with them!\"\"\"\n",
    "tokens = tokenizer.encode(query,return_tensors=\"pt\")\n",
    "all_tokens = len(tokens[0])\n",
    "mask = torch.ones_like(tokens)\n",
    "\n",
    "with torch.no_grad():\n",
    "    logits = model(tokens.to(device), attention_mask=mask.to(device))[0]\n",
    "    probs = logits.softmax(dim=-1)\n",
    "\n",
    "fake, real = probs.detach().cpu().flatten().numpy().tolist()\n",
    "\n",
    "print(f\"Real Probability: {real}\\nFake Probability: {fake}\")"
   ]
  },
  {
   "cell_type": "code",
   "execution_count": 22,
   "id": "dea79916",
   "metadata": {
    "_cell_guid": "92c34406-b9a5-4414-acb2-fe60746f03aa",
    "_uuid": "539b49a2-a981-4cb2-b3d1-2b584b6e1195",
    "collapsed": false,
    "execution": {
     "iopub.execute_input": "2023-12-16T16:01:49.471889Z",
     "iopub.status.busy": "2023-12-16T16:01:49.471565Z",
     "iopub.status.idle": "2023-12-16T16:01:49.476255Z",
     "shell.execute_reply": "2023-12-16T16:01:49.475310Z"
    },
    "id": "EEfLblF--a6s",
    "jupyter": {
     "outputs_hidden": false
    },
    "papermill": {
     "duration": 0.025691,
     "end_time": "2023-12-16T16:01:49.478609",
     "exception": false,
     "start_time": "2023-12-16T16:01:49.452918",
     "status": "completed"
    },
    "scrolled": true,
    "tags": []
   },
   "outputs": [
    {
     "name": "stdout",
     "output_type": "stream",
     "text": [
      "0\n",
      "2\n"
     ]
    }
   ],
   "source": [
    "print(tokenizer.bos_token_id)\n",
    "print(tokenizer.eos_token_id)"
   ]
  },
  {
   "cell_type": "code",
   "execution_count": 23,
   "id": "8c450943",
   "metadata": {
    "_cell_guid": "2303f0f6-92d4-4afe-9ba1-baa8bc9c453a",
    "_uuid": "28b92e22-7992-4776-81eb-3785f9e99ad0",
    "collapsed": false,
    "execution": {
     "iopub.execute_input": "2023-12-16T16:01:49.512774Z",
     "iopub.status.busy": "2023-12-16T16:01:49.512489Z",
     "iopub.status.idle": "2023-12-16T16:01:49.520360Z",
     "shell.execute_reply": "2023-12-16T16:01:49.519578Z"
    },
    "id": "hCygsYPz-a6s",
    "jupyter": {
     "outputs_hidden": false
    },
    "papermill": {
     "duration": 0.027306,
     "end_time": "2023-12-16T16:01:49.522372",
     "exception": false,
     "start_time": "2023-12-16T16:01:49.495066",
     "status": "completed"
    },
    "tags": []
   },
   "outputs": [],
   "source": [
    "\n",
    "def predict_long_text(query, model, tokenizer, max_length=512, device=\"cuda\"):\n",
    "    # Tokenize the input text\n",
    "    tokens = tokenizer.encode(query, add_special_tokens=True)\n",
    "\n",
    "    # Split the tokens into segments\n",
    "    segments = [tokens[i:i+max_length] for i in range(0, len(tokens), max_length)]\n",
    "\n",
    "    # Initialize variables to store results\n",
    "    fake_sum, real_sum = 0.0, 0.0\n",
    "\n",
    "    with torch.no_grad():\n",
    "        for segment in segments:\n",
    "            tokens_tensor = torch.tensor([segment]).to(device)\n",
    "            mask = torch.ones_like(tokens_tensor)\n",
    "\n",
    "            # Get model predictions for the segment\n",
    "            logits = model(tokens_tensor, attention_mask=mask)[0]\n",
    "            probs = logits.softmax(dim=-1)\n",
    "\n",
    "            fake, real = probs.detach().cpu().numpy()[:, 0], probs.detach().cpu().numpy()[:, 1]\n",
    "            fake_sum += sum(fake)\n",
    "            real_sum += sum(real)\n",
    "\n",
    "    return real_sum"
   ]
  },
  {
   "cell_type": "code",
   "execution_count": 24,
   "id": "d96e3194",
   "metadata": {
    "_cell_guid": "0493154d-5f9c-4cdc-9ce5-a422e2d5c052",
    "_uuid": "d6488fce-cf2d-4875-8a23-c642736747c4",
    "collapsed": false,
    "execution": {
     "iopub.execute_input": "2023-12-16T16:01:49.556989Z",
     "iopub.status.busy": "2023-12-16T16:01:49.556698Z",
     "iopub.status.idle": "2023-12-16T16:01:49.598383Z",
     "shell.execute_reply": "2023-12-16T16:01:49.597431Z"
    },
    "id": "2eOiDrTh-a6s",
    "jupyter": {
     "outputs_hidden": false
    },
    "papermill": {
     "duration": 0.061107,
     "end_time": "2023-12-16T16:01:49.600333",
     "exception": false,
     "start_time": "2023-12-16T16:01:49.539226",
     "status": "completed"
    },
    "tags": []
   },
   "outputs": [
    {
     "name": "stdout",
     "output_type": "stream",
     "text": [
      "0.9968416690826416\n"
     ]
    }
   ],
   "source": [
    "# Usage\n",
    "query = \"\"\"I work in the wedding industry and have to work long days, on my feet, outside in the heat, and have to look professional. I've spent a ridiculous amount of money on high end dress shoes like Merrels and just have not been able to find a pair that are comfortable to wear all day. Both for my feet and my back. Enter the Sanuk yoga sling!!! These shoes are amazingly comfortable. Though, I will admit it took a few wears to get used to the feel of the yoga matte bottom. At first, it felt a little \"sticky\" to me, and the fabric part that goes through the toe area was a little thick and took some getting used to. I wore them for a few days before taking them out on a job and I can't get over how comfortable they are. Ii have been wearing these shoes now for 3 months, every work day and I am THRILLED. No more back pain, no more sore feet. I also wear these sometimes during my off time,mans every time I wear them, I get compliments on how cute and comfortable they look. The great thing about these shoes is the yoga matte bottom. It helps your feet grip to the shoe a bit, so your foot can just walk normally, without having to grip the shoe. You may not realize it, but with a lot of Sandals, your foot is having to work to keep the shoe on, changing the way you walk and stand and ultimately causing foot and back pain. Not with these! Also, the soft linen sits comfortably on your skin and breathes nicely in the heat. The only downside is the funky tan lines, which is why I am sure to alternate shoes on my days off, especially if I plan to be outside for most of the day. If it were not for that, I think these might be the only shoes I'd wear all summer. If you are looking for a reasonable priced, comfortable shoe that you can wear and walk in all day.\"\"\"\n",
    "result = predict_long_text(query, model, tokenizer)\n",
    "print(result)"
   ]
  },
  {
   "cell_type": "code",
   "execution_count": 25,
   "id": "7e0c33d3",
   "metadata": {
    "_cell_guid": "6c55aa32-eaa1-4649-8477-657063f418d8",
    "_uuid": "4a199db3-1abe-4fb8-b3ba-5713ce9f6345",
    "collapsed": false,
    "execution": {
     "iopub.execute_input": "2023-12-16T16:01:49.634928Z",
     "iopub.status.busy": "2023-12-16T16:01:49.634659Z",
     "iopub.status.idle": "2023-12-16T16:05:41.904014Z",
     "shell.execute_reply": "2023-12-16T16:05:41.903001Z"
    },
    "id": "BjEHX33q-a6s",
    "jupyter": {
     "outputs_hidden": false
    },
    "papermill": {
     "duration": 232.289675,
     "end_time": "2023-12-16T16:05:41.906793",
     "exception": false,
     "start_time": "2023-12-16T16:01:49.617118",
     "status": "completed"
    },
    "tags": []
   },
   "outputs": [],
   "source": [
    "preds, preds_probas = [],[]\n",
    "for i, row in valid_dataset.iterrows():\n",
    "    query = row[\"text_\"]\n",
    "    pred = predict_long_text(query,model,tokenizer)\n",
    "    preds_probas.append(pred)\n",
    "    if pred >= 0.5:\n",
    "        preds.append(1)\n",
    "    else:\n",
    "        preds.append(0)"
   ]
  },
  {
   "cell_type": "code",
   "execution_count": 26,
   "id": "f49813ce",
   "metadata": {
    "_cell_guid": "a2ab4a6c-7cfe-4d5d-951c-54cefd31d4e4",
    "_uuid": "febc87c4-4a93-44af-8606-e2065ef34136",
    "collapsed": false,
    "execution": {
     "iopub.execute_input": "2023-12-16T16:05:41.940775Z",
     "iopub.status.busy": "2023-12-16T16:05:41.940466Z",
     "iopub.status.idle": "2023-12-16T16:05:41.960979Z",
     "shell.execute_reply": "2023-12-16T16:05:41.960090Z"
    },
    "id": "TeOl3me_Hqwc",
    "jupyter": {
     "outputs_hidden": false
    },
    "papermill": {
     "duration": 0.03976,
     "end_time": "2023-12-16T16:05:41.963147",
     "exception": false,
     "start_time": "2023-12-16T16:05:41.923387",
     "status": "completed"
    },
    "tags": []
   },
   "outputs": [
    {
     "data": {
      "text/plain": [
       "array([[3955,   55],\n",
       "       [ 150, 3927]])"
      ]
     },
     "execution_count": 26,
     "metadata": {},
     "output_type": "execute_result"
    }
   ],
   "source": [
    "from sklearn.metrics import confusion_matrix\n",
    "y_true = valid_dataset.target.values\n",
    "y_pred = preds\n",
    "confusion_matrix(y_true,y_pred)"
   ]
  },
  {
   "cell_type": "code",
   "execution_count": 27,
   "id": "42714496",
   "metadata": {
    "_cell_guid": "570c1b66-811c-4caf-bf0b-054ce47f2950",
    "_uuid": "2d00679d-242a-468e-a183-f0f24b526d33",
    "collapsed": false,
    "execution": {
     "iopub.execute_input": "2023-12-16T16:05:41.996906Z",
     "iopub.status.busy": "2023-12-16T16:05:41.996645Z",
     "iopub.status.idle": "2023-12-16T16:05:42.032620Z",
     "shell.execute_reply": "2023-12-16T16:05:42.031556Z"
    },
    "id": "uTgtUME1Hqwc",
    "jupyter": {
     "outputs_hidden": false
    },
    "papermill": {
     "duration": 0.054858,
     "end_time": "2023-12-16T16:05:42.034598",
     "exception": false,
     "start_time": "2023-12-16T16:05:41.979740",
     "status": "completed"
    },
    "tags": []
   },
   "outputs": [],
   "source": [
    "from sklearn.metrics import accuracy_score, precision_score, recall_score, classification_report\n",
    "acc = accuracy_score(y_true,y_pred)\n",
    "precision = precision_score(y_true,y_pred)\n",
    "recall = recall_score(y_true,y_pred)"
   ]
  },
  {
   "cell_type": "code",
   "execution_count": 28,
   "id": "9149de42",
   "metadata": {
    "_cell_guid": "7b22d75f-5d9e-4e19-873d-e7698af78d55",
    "_uuid": "af552551-1bfe-4f2d-9ab2-5bc5e7ddae21",
    "collapsed": false,
    "execution": {
     "iopub.execute_input": "2023-12-16T16:05:42.067725Z",
     "iopub.status.busy": "2023-12-16T16:05:42.067469Z",
     "iopub.status.idle": "2023-12-16T16:05:42.072223Z",
     "shell.execute_reply": "2023-12-16T16:05:42.071312Z"
    },
    "id": "FcZ0qT1xHqwc",
    "jupyter": {
     "outputs_hidden": false
    },
    "papermill": {
     "duration": 0.023776,
     "end_time": "2023-12-16T16:05:42.074277",
     "exception": false,
     "start_time": "2023-12-16T16:05:42.050501",
     "status": "completed"
    },
    "tags": []
   },
   "outputs": [
    {
     "name": "stdout",
     "output_type": "stream",
     "text": [
      "Accuracy: 97.4650673921108; Precision:98.61878453038673; Recall:96.32082413539366\n"
     ]
    }
   ],
   "source": [
    "print(f\"Accuracy: {acc*100}; Precision:{precision*100}; Recall:{recall*100}\")"
   ]
  },
  {
   "cell_type": "code",
   "execution_count": 29,
   "id": "95dbbd2e",
   "metadata": {
    "_cell_guid": "7ead7d0a-bf49-4bac-abe6-a9974f6135c7",
    "_uuid": "b035e43d-79c9-402d-af9b-d5d9f10abea4",
    "collapsed": false,
    "execution": {
     "iopub.execute_input": "2023-12-16T16:05:42.107843Z",
     "iopub.status.busy": "2023-12-16T16:05:42.107509Z",
     "iopub.status.idle": "2023-12-16T16:05:42.135172Z",
     "shell.execute_reply": "2023-12-16T16:05:42.134129Z"
    },
    "id": "enlwXs3IHqwc",
    "jupyter": {
     "outputs_hidden": false
    },
    "papermill": {
     "duration": 0.046752,
     "end_time": "2023-12-16T16:05:42.137106",
     "exception": false,
     "start_time": "2023-12-16T16:05:42.090354",
     "status": "completed"
    },
    "tags": []
   },
   "outputs": [
    {
     "name": "stdout",
     "output_type": "stream",
     "text": [
      "              precision    recall  f1-score   support\n",
      "\n",
      "          CG       0.96      0.99      0.97      4010\n",
      "          OR       0.99      0.96      0.97      4077\n",
      "\n",
      "    accuracy                           0.97      8087\n",
      "   macro avg       0.97      0.97      0.97      8087\n",
      "weighted avg       0.97      0.97      0.97      8087\n",
      "\n"
     ]
    }
   ],
   "source": [
    "print(classification_report(y_true, y_pred, target_names=[\"CG\",\"OR\"]))"
   ]
  }
 ],
 "metadata": {
  "kaggle": {
   "accelerator": "nvidiaTeslaT4",
   "dataSources": [
    {
     "datasetId": 3749709,
     "sourceId": 6488923,
     "sourceType": "datasetVersion"
    }
   ],
   "dockerImageVersionId": 30627,
   "isGpuEnabled": true,
   "isInternetEnabled": true,
   "language": "python",
   "sourceType": "notebook"
  },
  "kernelspec": {
   "display_name": "Python 3",
   "language": "python",
   "name": "python3"
  },
  "language_info": {
   "codemirror_mode": {
    "name": "ipython",
    "version": 3
   },
   "file_extension": ".py",
   "mimetype": "text/x-python",
   "name": "python",
   "nbconvert_exporter": "python",
   "pygments_lexer": "ipython3",
   "version": "3.10.12"
  },
  "papermill": {
   "default_parameters": {},
   "duration": 1949.304717,
   "end_time": "2023-12-16T16:05:46.030904",
   "environment_variables": {},
   "exception": null,
   "input_path": "__notebook__.ipynb",
   "output_path": "__notebook__.ipynb",
   "parameters": {},
   "start_time": "2023-12-16T15:33:16.726187",
   "version": "2.4.0"
  },
  "widgets": {
   "application/vnd.jupyter.widget-state+json": {
    "state": {
     "00cb84a9ccb243518703aa7662e87bca": {
      "model_module": "@jupyter-widgets/controls",
      "model_module_version": "1.5.0",
      "model_name": "DescriptionStyleModel",
      "state": {
       "_model_module": "@jupyter-widgets/controls",
       "_model_module_version": "1.5.0",
       "_model_name": "DescriptionStyleModel",
       "_view_count": null,
       "_view_module": "@jupyter-widgets/base",
       "_view_module_version": "1.2.0",
       "_view_name": "StyleView",
       "description_width": ""
      }
     },
     "031f75e633074f40a8ba5d02bce490bb": {
      "model_module": "@jupyter-widgets/controls",
      "model_module_version": "1.5.0",
      "model_name": "DescriptionStyleModel",
      "state": {
       "_model_module": "@jupyter-widgets/controls",
       "_model_module_version": "1.5.0",
       "_model_name": "DescriptionStyleModel",
       "_view_count": null,
       "_view_module": "@jupyter-widgets/base",
       "_view_module_version": "1.2.0",
       "_view_name": "StyleView",
       "description_width": ""
      }
     },
     "07a470f6672c4fb9b4fbddee7d65e72e": {
      "model_module": "@jupyter-widgets/controls",
      "model_module_version": "1.5.0",
      "model_name": "FloatProgressModel",
      "state": {
       "_dom_classes": [],
       "_model_module": "@jupyter-widgets/controls",
       "_model_module_version": "1.5.0",
       "_model_name": "FloatProgressModel",
       "_view_count": null,
       "_view_module": "@jupyter-widgets/controls",
       "_view_module_version": "1.5.0",
       "_view_name": "ProgressView",
       "bar_style": "success",
       "description": "",
       "description_tooltip": null,
       "layout": "IPY_MODEL_99fa1e536fd345b4b743d0c03a261100",
       "max": 150.0,
       "min": 0.0,
       "orientation": "horizontal",
       "style": "IPY_MODEL_57c80fa1c5aa4a4ab8c9852a053fb454",
       "value": 150.0
      }
     },
     "134c3709554f4bbca0803e9df8a48ed0": {
      "model_module": "@jupyter-widgets/controls",
      "model_module_version": "1.5.0",
      "model_name": "DescriptionStyleModel",
      "state": {
       "_model_module": "@jupyter-widgets/controls",
       "_model_module_version": "1.5.0",
       "_model_name": "DescriptionStyleModel",
       "_view_count": null,
       "_view_module": "@jupyter-widgets/base",
       "_view_module_version": "1.2.0",
       "_view_name": "StyleView",
       "description_width": ""
      }
     },
     "201371ce9d4549508bf26c31802efb6f": {
      "model_module": "@jupyter-widgets/controls",
      "model_module_version": "1.5.0",
      "model_name": "HBoxModel",
      "state": {
       "_dom_classes": [],
       "_model_module": "@jupyter-widgets/controls",
       "_model_module_version": "1.5.0",
       "_model_name": "HBoxModel",
       "_view_count": null,
       "_view_module": "@jupyter-widgets/controls",
       "_view_module_version": "1.5.0",
       "_view_name": "HBoxView",
       "box_style": "",
       "children": [
        "IPY_MODEL_d90512ae7af74c61b2d52d96017b672c",
        "IPY_MODEL_cd67658aa4354170a08aaaae121b841e",
        "IPY_MODEL_64bc8e36c7cc466e9a8b0d1aaba2a0ad"
       ],
       "layout": "IPY_MODEL_b4ecd23f0a1a4f8ba04dfe878ea6c61b"
      }
     },
     "2f15c0f526de4e79ba7d1220a24ff7e4": {
      "model_module": "@jupyter-widgets/base",
      "model_module_version": "1.2.0",
      "model_name": "LayoutModel",
      "state": {
       "_model_module": "@jupyter-widgets/base",
       "_model_module_version": "1.2.0",
       "_model_name": "LayoutModel",
       "_view_count": null,
       "_view_module": "@jupyter-widgets/base",
       "_view_module_version": "1.2.0",
       "_view_name": "LayoutView",
       "align_content": null,
       "align_items": null,
       "align_self": null,
       "border": null,
       "bottom": null,
       "display": null,
       "flex": null,
       "flex_flow": null,
       "grid_area": null,
       "grid_auto_columns": null,
       "grid_auto_flow": null,
       "grid_auto_rows": null,
       "grid_column": null,
       "grid_gap": null,
       "grid_row": null,
       "grid_template_areas": null,
       "grid_template_columns": null,
       "grid_template_rows": null,
       "height": null,
       "justify_content": null,
       "justify_items": null,
       "left": null,
       "margin": null,
       "max_height": null,
       "max_width": null,
       "min_height": null,
       "min_width": null,
       "object_fit": null,
       "object_position": null,
       "order": null,
       "overflow": null,
       "overflow_x": null,
       "overflow_y": null,
       "padding": null,
       "right": null,
       "top": null,
       "visibility": null,
       "width": null
      }
     },
     "342b0caf8563454e82d76dcf48179d6d": {
      "model_module": "@jupyter-widgets/base",
      "model_module_version": "1.2.0",
      "model_name": "LayoutModel",
      "state": {
       "_model_module": "@jupyter-widgets/base",
       "_model_module_version": "1.2.0",
       "_model_name": "LayoutModel",
       "_view_count": null,
       "_view_module": "@jupyter-widgets/base",
       "_view_module_version": "1.2.0",
       "_view_name": "LayoutView",
       "align_content": null,
       "align_items": null,
       "align_self": null,
       "border": null,
       "bottom": null,
       "display": null,
       "flex": null,
       "flex_flow": null,
       "grid_area": null,
       "grid_auto_columns": null,
       "grid_auto_flow": null,
       "grid_auto_rows": null,
       "grid_column": null,
       "grid_gap": null,
       "grid_row": null,
       "grid_template_areas": null,
       "grid_template_columns": null,
       "grid_template_rows": null,
       "height": null,
       "justify_content": null,
       "justify_items": null,
       "left": null,
       "margin": null,
       "max_height": null,
       "max_width": null,
       "min_height": null,
       "min_width": null,
       "object_fit": null,
       "object_position": null,
       "order": null,
       "overflow": null,
       "overflow_x": null,
       "overflow_y": null,
       "padding": null,
       "right": null,
       "top": null,
       "visibility": null,
       "width": null
      }
     },
     "37f1955f8ed64523b1a27f89a5799cd0": {
      "model_module": "@jupyter-widgets/controls",
      "model_module_version": "1.5.0",
      "model_name": "DescriptionStyleModel",
      "state": {
       "_model_module": "@jupyter-widgets/controls",
       "_model_module_version": "1.5.0",
       "_model_name": "DescriptionStyleModel",
       "_view_count": null,
       "_view_module": "@jupyter-widgets/base",
       "_view_module_version": "1.2.0",
       "_view_name": "StyleView",
       "description_width": ""
      }
     },
     "3c35d054fa28461f9481e06941f0cce6": {
      "model_module": "@jupyter-widgets/base",
      "model_module_version": "1.2.0",
      "model_name": "LayoutModel",
      "state": {
       "_model_module": "@jupyter-widgets/base",
       "_model_module_version": "1.2.0",
       "_model_name": "LayoutModel",
       "_view_count": null,
       "_view_module": "@jupyter-widgets/base",
       "_view_module_version": "1.2.0",
       "_view_name": "LayoutView",
       "align_content": null,
       "align_items": null,
       "align_self": null,
       "border": null,
       "bottom": null,
       "display": null,
       "flex": null,
       "flex_flow": null,
       "grid_area": null,
       "grid_auto_columns": null,
       "grid_auto_flow": null,
       "grid_auto_rows": null,
       "grid_column": null,
       "grid_gap": null,
       "grid_row": null,
       "grid_template_areas": null,
       "grid_template_columns": null,
       "grid_template_rows": null,
       "height": null,
       "justify_content": null,
       "justify_items": null,
       "left": null,
       "margin": null,
       "max_height": null,
       "max_width": null,
       "min_height": null,
       "min_width": null,
       "object_fit": null,
       "object_position": null,
       "order": null,
       "overflow": null,
       "overflow_x": null,
       "overflow_y": null,
       "padding": null,
       "right": null,
       "top": null,
       "visibility": null,
       "width": null
      }
     },
     "3e52ea102db848b792a2d5973493fdd4": {
      "model_module": "@jupyter-widgets/controls",
      "model_module_version": "1.5.0",
      "model_name": "ProgressStyleModel",
      "state": {
       "_model_module": "@jupyter-widgets/controls",
       "_model_module_version": "1.5.0",
       "_model_name": "ProgressStyleModel",
       "_view_count": null,
       "_view_module": "@jupyter-widgets/base",
       "_view_module_version": "1.2.0",
       "_view_name": "StyleView",
       "bar_color": null,
       "description_width": ""
      }
     },
     "483edfe810c84806a2a1f866b2d8cf4c": {
      "model_module": "@jupyter-widgets/base",
      "model_module_version": "1.2.0",
      "model_name": "LayoutModel",
      "state": {
       "_model_module": "@jupyter-widgets/base",
       "_model_module_version": "1.2.0",
       "_model_name": "LayoutModel",
       "_view_count": null,
       "_view_module": "@jupyter-widgets/base",
       "_view_module_version": "1.2.0",
       "_view_name": "LayoutView",
       "align_content": null,
       "align_items": null,
       "align_self": null,
       "border": null,
       "bottom": null,
       "display": null,
       "flex": null,
       "flex_flow": null,
       "grid_area": null,
       "grid_auto_columns": null,
       "grid_auto_flow": null,
       "grid_auto_rows": null,
       "grid_column": null,
       "grid_gap": null,
       "grid_row": null,
       "grid_template_areas": null,
       "grid_template_columns": null,
       "grid_template_rows": null,
       "height": null,
       "justify_content": null,
       "justify_items": null,
       "left": null,
       "margin": null,
       "max_height": null,
       "max_width": null,
       "min_height": null,
       "min_width": null,
       "object_fit": null,
       "object_position": null,
       "order": null,
       "overflow": null,
       "overflow_x": null,
       "overflow_y": null,
       "padding": null,
       "right": null,
       "top": null,
       "visibility": null,
       "width": null
      }
     },
     "4fa1d471803448e8832386d8d3906757": {
      "model_module": "@jupyter-widgets/base",
      "model_module_version": "1.2.0",
      "model_name": "LayoutModel",
      "state": {
       "_model_module": "@jupyter-widgets/base",
       "_model_module_version": "1.2.0",
       "_model_name": "LayoutModel",
       "_view_count": null,
       "_view_module": "@jupyter-widgets/base",
       "_view_module_version": "1.2.0",
       "_view_name": "LayoutView",
       "align_content": null,
       "align_items": null,
       "align_self": null,
       "border": null,
       "bottom": null,
       "display": null,
       "flex": null,
       "flex_flow": null,
       "grid_area": null,
       "grid_auto_columns": null,
       "grid_auto_flow": null,
       "grid_auto_rows": null,
       "grid_column": null,
       "grid_gap": null,
       "grid_row": null,
       "grid_template_areas": null,
       "grid_template_columns": null,
       "grid_template_rows": null,
       "height": null,
       "justify_content": null,
       "justify_items": null,
       "left": null,
       "margin": null,
       "max_height": null,
       "max_width": null,
       "min_height": null,
       "min_width": null,
       "object_fit": null,
       "object_position": null,
       "order": null,
       "overflow": null,
       "overflow_x": null,
       "overflow_y": null,
       "padding": null,
       "right": null,
       "top": null,
       "visibility": null,
       "width": null
      }
     },
     "4fc233931547489c92223c60767181b3": {
      "model_module": "@jupyter-widgets/controls",
      "model_module_version": "1.5.0",
      "model_name": "HBoxModel",
      "state": {
       "_dom_classes": [],
       "_model_module": "@jupyter-widgets/controls",
       "_model_module_version": "1.5.0",
       "_model_name": "HBoxModel",
       "_view_count": null,
       "_view_module": "@jupyter-widgets/controls",
       "_view_module_version": "1.5.0",
       "_view_name": "HBoxView",
       "box_style": "",
       "children": [
        "IPY_MODEL_874296510d104905b06e0ff05814b942",
        "IPY_MODEL_07a470f6672c4fb9b4fbddee7d65e72e",
        "IPY_MODEL_9e8df76c419d4fcfab59f564e7addf67"
       ],
       "layout": "IPY_MODEL_d1545c512bcd40ffb3394abdf2364668"
      }
     },
     "54138239321e405b8e6613692ca37e81": {
      "model_module": "@jupyter-widgets/base",
      "model_module_version": "1.2.0",
      "model_name": "LayoutModel",
      "state": {
       "_model_module": "@jupyter-widgets/base",
       "_model_module_version": "1.2.0",
       "_model_name": "LayoutModel",
       "_view_count": null,
       "_view_module": "@jupyter-widgets/base",
       "_view_module_version": "1.2.0",
       "_view_name": "LayoutView",
       "align_content": null,
       "align_items": null,
       "align_self": null,
       "border": null,
       "bottom": null,
       "display": null,
       "flex": null,
       "flex_flow": null,
       "grid_area": null,
       "grid_auto_columns": null,
       "grid_auto_flow": null,
       "grid_auto_rows": null,
       "grid_column": null,
       "grid_gap": null,
       "grid_row": null,
       "grid_template_areas": null,
       "grid_template_columns": null,
       "grid_template_rows": null,
       "height": null,
       "justify_content": null,
       "justify_items": null,
       "left": null,
       "margin": null,
       "max_height": null,
       "max_width": null,
       "min_height": null,
       "min_width": null,
       "object_fit": null,
       "object_position": null,
       "order": null,
       "overflow": null,
       "overflow_x": null,
       "overflow_y": null,
       "padding": null,
       "right": null,
       "top": null,
       "visibility": null,
       "width": null
      }
     },
     "54fe045b4f7d48aaadf095f9a830c1d5": {
      "model_module": "@jupyter-widgets/controls",
      "model_module_version": "1.5.0",
      "model_name": "HTMLModel",
      "state": {
       "_dom_classes": [],
       "_model_module": "@jupyter-widgets/controls",
       "_model_module_version": "1.5.0",
       "_model_name": "HTMLModel",
       "_view_count": null,
       "_view_module": "@jupyter-widgets/controls",
       "_view_module_version": "1.5.0",
       "_view_name": "HTMLView",
       "description": "",
       "description_tooltip": null,
       "layout": "IPY_MODEL_342b0caf8563454e82d76dcf48179d6d",
       "placeholder": "​",
       "style": "IPY_MODEL_b716a2b232954a39b4c71655938dfe40",
       "value": "pytorch_model.bin: 100%"
      }
     },
     "550a376b52ae4e50b09a8e0cdfc2698a": {
      "model_module": "@jupyter-widgets/controls",
      "model_module_version": "1.5.0",
      "model_name": "HBoxModel",
      "state": {
       "_dom_classes": [],
       "_model_module": "@jupyter-widgets/controls",
       "_model_module_version": "1.5.0",
       "_model_name": "HBoxModel",
       "_view_count": null,
       "_view_module": "@jupyter-widgets/controls",
       "_view_module_version": "1.5.0",
       "_view_name": "HBoxView",
       "box_style": "",
       "children": [
        "IPY_MODEL_ba2a7415e94048d4ae670c1450d497b8",
        "IPY_MODEL_a78eeb33de784fc193bc45aba6a471ba",
        "IPY_MODEL_764eafdab7314617a207ec0ab9613368"
       ],
       "layout": "IPY_MODEL_56193ee328c345fb977d7e03e6bcf36c"
      }
     },
     "551e2e095c3c424bb5b9f279f873ca22": {
      "model_module": "@jupyter-widgets/controls",
      "model_module_version": "1.5.0",
      "model_name": "ProgressStyleModel",
      "state": {
       "_model_module": "@jupyter-widgets/controls",
       "_model_module_version": "1.5.0",
       "_model_name": "ProgressStyleModel",
       "_view_count": null,
       "_view_module": "@jupyter-widgets/base",
       "_view_module_version": "1.2.0",
       "_view_name": "StyleView",
       "bar_color": null,
       "description_width": ""
      }
     },
     "5588ca9000ee4a2d9ab45d51bf920c10": {
      "model_module": "@jupyter-widgets/base",
      "model_module_version": "1.2.0",
      "model_name": "LayoutModel",
      "state": {
       "_model_module": "@jupyter-widgets/base",
       "_model_module_version": "1.2.0",
       "_model_name": "LayoutModel",
       "_view_count": null,
       "_view_module": "@jupyter-widgets/base",
       "_view_module_version": "1.2.0",
       "_view_name": "LayoutView",
       "align_content": null,
       "align_items": null,
       "align_self": null,
       "border": null,
       "bottom": null,
       "display": null,
       "flex": null,
       "flex_flow": null,
       "grid_area": null,
       "grid_auto_columns": null,
       "grid_auto_flow": null,
       "grid_auto_rows": null,
       "grid_column": null,
       "grid_gap": null,
       "grid_row": null,
       "grid_template_areas": null,
       "grid_template_columns": null,
       "grid_template_rows": null,
       "height": null,
       "justify_content": null,
       "justify_items": null,
       "left": null,
       "margin": null,
       "max_height": null,
       "max_width": null,
       "min_height": null,
       "min_width": null,
       "object_fit": null,
       "object_position": null,
       "order": null,
       "overflow": null,
       "overflow_x": null,
       "overflow_y": null,
       "padding": null,
       "right": null,
       "top": null,
       "visibility": null,
       "width": null
      }
     },
     "55ae297f6a09468b982f185fc19e2fc5": {
      "model_module": "@jupyter-widgets/controls",
      "model_module_version": "1.5.0",
      "model_name": "DescriptionStyleModel",
      "state": {
       "_model_module": "@jupyter-widgets/controls",
       "_model_module_version": "1.5.0",
       "_model_name": "DescriptionStyleModel",
       "_view_count": null,
       "_view_module": "@jupyter-widgets/base",
       "_view_module_version": "1.2.0",
       "_view_name": "StyleView",
       "description_width": ""
      }
     },
     "5612cd385c2c4610bdab1d8e92c2a7fc": {
      "model_module": "@jupyter-widgets/base",
      "model_module_version": "1.2.0",
      "model_name": "LayoutModel",
      "state": {
       "_model_module": "@jupyter-widgets/base",
       "_model_module_version": "1.2.0",
       "_model_name": "LayoutModel",
       "_view_count": null,
       "_view_module": "@jupyter-widgets/base",
       "_view_module_version": "1.2.0",
       "_view_name": "LayoutView",
       "align_content": null,
       "align_items": null,
       "align_self": null,
       "border": null,
       "bottom": null,
       "display": null,
       "flex": null,
       "flex_flow": null,
       "grid_area": null,
       "grid_auto_columns": null,
       "grid_auto_flow": null,
       "grid_auto_rows": null,
       "grid_column": null,
       "grid_gap": null,
       "grid_row": null,
       "grid_template_areas": null,
       "grid_template_columns": null,
       "grid_template_rows": null,
       "height": null,
       "justify_content": null,
       "justify_items": null,
       "left": null,
       "margin": null,
       "max_height": null,
       "max_width": null,
       "min_height": null,
       "min_width": null,
       "object_fit": null,
       "object_position": null,
       "order": null,
       "overflow": null,
       "overflow_x": null,
       "overflow_y": null,
       "padding": null,
       "right": null,
       "top": null,
       "visibility": null,
       "width": null
      }
     },
     "56193ee328c345fb977d7e03e6bcf36c": {
      "model_module": "@jupyter-widgets/base",
      "model_module_version": "1.2.0",
      "model_name": "LayoutModel",
      "state": {
       "_model_module": "@jupyter-widgets/base",
       "_model_module_version": "1.2.0",
       "_model_name": "LayoutModel",
       "_view_count": null,
       "_view_module": "@jupyter-widgets/base",
       "_view_module_version": "1.2.0",
       "_view_name": "LayoutView",
       "align_content": null,
       "align_items": null,
       "align_self": null,
       "border": null,
       "bottom": null,
       "display": null,
       "flex": null,
       "flex_flow": null,
       "grid_area": null,
       "grid_auto_columns": null,
       "grid_auto_flow": null,
       "grid_auto_rows": null,
       "grid_column": null,
       "grid_gap": null,
       "grid_row": null,
       "grid_template_areas": null,
       "grid_template_columns": null,
       "grid_template_rows": null,
       "height": null,
       "justify_content": null,
       "justify_items": null,
       "left": null,
       "margin": null,
       "max_height": null,
       "max_width": null,
       "min_height": null,
       "min_width": null,
       "object_fit": null,
       "object_position": null,
       "order": null,
       "overflow": null,
       "overflow_x": null,
       "overflow_y": null,
       "padding": null,
       "right": null,
       "top": null,
       "visibility": null,
       "width": null
      }
     },
     "57c80fa1c5aa4a4ab8c9852a053fb454": {
      "model_module": "@jupyter-widgets/controls",
      "model_module_version": "1.5.0",
      "model_name": "ProgressStyleModel",
      "state": {
       "_model_module": "@jupyter-widgets/controls",
       "_model_module_version": "1.5.0",
       "_model_name": "ProgressStyleModel",
       "_view_count": null,
       "_view_module": "@jupyter-widgets/base",
       "_view_module_version": "1.2.0",
       "_view_name": "StyleView",
       "bar_color": null,
       "description_width": ""
      }
     },
     "5863762d62194a18b389d31afe88ea80": {
      "model_module": "@jupyter-widgets/controls",
      "model_module_version": "1.5.0",
      "model_name": "HTMLModel",
      "state": {
       "_dom_classes": [],
       "_model_module": "@jupyter-widgets/controls",
       "_model_module_version": "1.5.0",
       "_model_name": "HTMLModel",
       "_view_count": null,
       "_view_module": "@jupyter-widgets/controls",
       "_view_module_version": "1.5.0",
       "_view_name": "HTMLView",
       "description": "",
       "description_tooltip": null,
       "layout": "IPY_MODEL_be3caa389249476cac42d126b3262eb0",
       "placeholder": "​",
       "style": "IPY_MODEL_37f1955f8ed64523b1a27f89a5799cd0",
       "value": " 430/430 [00:00&lt;00:00, 28.5kB/s]"
      }
     },
     "64bc8e36c7cc466e9a8b0d1aaba2a0ad": {
      "model_module": "@jupyter-widgets/controls",
      "model_module_version": "1.5.0",
      "model_name": "HTMLModel",
      "state": {
       "_dom_classes": [],
       "_model_module": "@jupyter-widgets/controls",
       "_model_module_version": "1.5.0",
       "_model_name": "HTMLModel",
       "_view_count": null,
       "_view_module": "@jupyter-widgets/controls",
       "_view_module_version": "1.5.0",
       "_view_name": "HTMLView",
       "description": "",
       "description_tooltip": null,
       "layout": "IPY_MODEL_e81a46bc144b420ea059dbe9144acf12",
       "placeholder": "​",
       "style": "IPY_MODEL_c925216575ed4912b94dedbea67314e5",
       "value": " 2.00/2.00 [00:00&lt;00:00, 139B/s]"
      }
     },
     "6df308e17bb34a48883719e3556db099": {
      "model_module": "@jupyter-widgets/controls",
      "model_module_version": "1.5.0",
      "model_name": "HTMLModel",
      "state": {
       "_dom_classes": [],
       "_model_module": "@jupyter-widgets/controls",
       "_model_module_version": "1.5.0",
       "_model_name": "HTMLModel",
       "_view_count": null,
       "_view_module": "@jupyter-widgets/controls",
       "_view_module_version": "1.5.0",
       "_view_name": "HTMLView",
       "description": "",
       "description_tooltip": null,
       "layout": "IPY_MODEL_ed0e79d131204bf8ab5e83ca7b94582e",
       "placeholder": "​",
       "style": "IPY_MODEL_cf17429c83974600af2ab83d146d31cd",
       "value": "config.json: 100%"
      }
     },
     "6e455d3c726f45a99ebd26144853b584": {
      "model_module": "@jupyter-widgets/base",
      "model_module_version": "1.2.0",
      "model_name": "LayoutModel",
      "state": {
       "_model_module": "@jupyter-widgets/base",
       "_model_module_version": "1.2.0",
       "_model_name": "LayoutModel",
       "_view_count": null,
       "_view_module": "@jupyter-widgets/base",
       "_view_module_version": "1.2.0",
       "_view_name": "LayoutView",
       "align_content": null,
       "align_items": null,
       "align_self": null,
       "border": null,
       "bottom": null,
       "display": null,
       "flex": null,
       "flex_flow": null,
       "grid_area": null,
       "grid_auto_columns": null,
       "grid_auto_flow": null,
       "grid_auto_rows": null,
       "grid_column": null,
       "grid_gap": null,
       "grid_row": null,
       "grid_template_areas": null,
       "grid_template_columns": null,
       "grid_template_rows": null,
       "height": null,
       "justify_content": null,
       "justify_items": null,
       "left": null,
       "margin": null,
       "max_height": null,
       "max_width": null,
       "min_height": null,
       "min_width": null,
       "object_fit": null,
       "object_position": null,
       "order": null,
       "overflow": null,
       "overflow_x": null,
       "overflow_y": null,
       "padding": null,
       "right": null,
       "top": null,
       "visibility": null,
       "width": null
      }
     },
     "764eafdab7314617a207ec0ab9613368": {
      "model_module": "@jupyter-widgets/controls",
      "model_module_version": "1.5.0",
      "model_name": "HTMLModel",
      "state": {
       "_dom_classes": [],
       "_model_module": "@jupyter-widgets/controls",
       "_model_module_version": "1.5.0",
       "_model_name": "HTMLModel",
       "_view_count": null,
       "_view_module": "@jupyter-widgets/controls",
       "_view_module_version": "1.5.0",
       "_view_name": "HTMLView",
       "description": "",
       "description_tooltip": null,
       "layout": "IPY_MODEL_5612cd385c2c4610bdab1d8e92c2a7fc",
       "placeholder": "​",
       "style": "IPY_MODEL_a0849dae280344fda2d2ea2775a3788c",
       "value": " 5.07M/5.07M [00:00&lt;00:00, 50.5MB/s]"
      }
     },
     "874296510d104905b06e0ff05814b942": {
      "model_module": "@jupyter-widgets/controls",
      "model_module_version": "1.5.0",
      "model_name": "HTMLModel",
      "state": {
       "_dom_classes": [],
       "_model_module": "@jupyter-widgets/controls",
       "_model_module_version": "1.5.0",
       "_model_name": "HTMLModel",
       "_view_count": null,
       "_view_module": "@jupyter-widgets/controls",
       "_view_module_version": "1.5.0",
       "_view_name": "HTMLView",
       "description": "",
       "description_tooltip": null,
       "layout": "IPY_MODEL_2f15c0f526de4e79ba7d1220a24ff7e4",
       "placeholder": "​",
       "style": "IPY_MODEL_ddbd44d7a2c54e78a3943d10e13a86d6",
       "value": "special_tokens_map.json: 100%"
      }
     },
     "8b5fc648a3e9405b81251e17879a73a9": {
      "model_module": "@jupyter-widgets/controls",
      "model_module_version": "1.5.0",
      "model_name": "HTMLModel",
      "state": {
       "_dom_classes": [],
       "_model_module": "@jupyter-widgets/controls",
       "_model_module_version": "1.5.0",
       "_model_name": "HTMLModel",
       "_view_count": null,
       "_view_module": "@jupyter-widgets/controls",
       "_view_module_version": "1.5.0",
       "_view_name": "HTMLView",
       "description": "",
       "description_tooltip": null,
       "layout": "IPY_MODEL_f7f6c44df8c04ee6b4c3141d0bc45191",
       "placeholder": "​",
       "style": "IPY_MODEL_00cb84a9ccb243518703aa7662e87bca",
       "value": " 471M/471M [00:02&lt;00:00, 215MB/s]"
      }
     },
     "95579bd07b26476ebc07a7760631ba42": {
      "model_module": "@jupyter-widgets/controls",
      "model_module_version": "1.5.0",
      "model_name": "HBoxModel",
      "state": {
       "_dom_classes": [],
       "_model_module": "@jupyter-widgets/controls",
       "_model_module_version": "1.5.0",
       "_model_name": "HBoxModel",
       "_view_count": null,
       "_view_module": "@jupyter-widgets/controls",
       "_view_module_version": "1.5.0",
       "_view_name": "HBoxView",
       "box_style": "",
       "children": [
        "IPY_MODEL_54fe045b4f7d48aaadf095f9a830c1d5",
        "IPY_MODEL_bb2b2e6011174530bcee5dbc716acc22",
        "IPY_MODEL_8b5fc648a3e9405b81251e17879a73a9"
       ],
       "layout": "IPY_MODEL_5588ca9000ee4a2d9ab45d51bf920c10"
      }
     },
     "993ad7f2d05f4c309ecc0bc4df668938": {
      "model_module": "@jupyter-widgets/controls",
      "model_module_version": "1.5.0",
      "model_name": "ProgressStyleModel",
      "state": {
       "_model_module": "@jupyter-widgets/controls",
       "_model_module_version": "1.5.0",
       "_model_name": "ProgressStyleModel",
       "_view_count": null,
       "_view_module": "@jupyter-widgets/base",
       "_view_module_version": "1.2.0",
       "_view_name": "StyleView",
       "bar_color": null,
       "description_width": ""
      }
     },
     "99fa1e536fd345b4b743d0c03a261100": {
      "model_module": "@jupyter-widgets/base",
      "model_module_version": "1.2.0",
      "model_name": "LayoutModel",
      "state": {
       "_model_module": "@jupyter-widgets/base",
       "_model_module_version": "1.2.0",
       "_model_name": "LayoutModel",
       "_view_count": null,
       "_view_module": "@jupyter-widgets/base",
       "_view_module_version": "1.2.0",
       "_view_name": "LayoutView",
       "align_content": null,
       "align_items": null,
       "align_self": null,
       "border": null,
       "bottom": null,
       "display": null,
       "flex": null,
       "flex_flow": null,
       "grid_area": null,
       "grid_auto_columns": null,
       "grid_auto_flow": null,
       "grid_auto_rows": null,
       "grid_column": null,
       "grid_gap": null,
       "grid_row": null,
       "grid_template_areas": null,
       "grid_template_columns": null,
       "grid_template_rows": null,
       "height": null,
       "justify_content": null,
       "justify_items": null,
       "left": null,
       "margin": null,
       "max_height": null,
       "max_width": null,
       "min_height": null,
       "min_width": null,
       "object_fit": null,
       "object_position": null,
       "order": null,
       "overflow": null,
       "overflow_x": null,
       "overflow_y": null,
       "padding": null,
       "right": null,
       "top": null,
       "visibility": null,
       "width": null
      }
     },
     "9e8df76c419d4fcfab59f564e7addf67": {
      "model_module": "@jupyter-widgets/controls",
      "model_module_version": "1.5.0",
      "model_name": "HTMLModel",
      "state": {
       "_dom_classes": [],
       "_model_module": "@jupyter-widgets/controls",
       "_model_module_version": "1.5.0",
       "_model_name": "HTMLModel",
       "_view_count": null,
       "_view_module": "@jupyter-widgets/controls",
       "_view_module_version": "1.5.0",
       "_view_name": "HTMLView",
       "description": "",
       "description_tooltip": null,
       "layout": "IPY_MODEL_483edfe810c84806a2a1f866b2d8cf4c",
       "placeholder": "​",
       "style": "IPY_MODEL_031f75e633074f40a8ba5d02bce490bb",
       "value": " 150/150 [00:00&lt;00:00, 10.3kB/s]"
      }
     },
     "a0849dae280344fda2d2ea2775a3788c": {
      "model_module": "@jupyter-widgets/controls",
      "model_module_version": "1.5.0",
      "model_name": "DescriptionStyleModel",
      "state": {
       "_model_module": "@jupyter-widgets/controls",
       "_model_module_version": "1.5.0",
       "_model_name": "DescriptionStyleModel",
       "_view_count": null,
       "_view_module": "@jupyter-widgets/base",
       "_view_module_version": "1.2.0",
       "_view_name": "StyleView",
       "description_width": ""
      }
     },
     "a78eeb33de784fc193bc45aba6a471ba": {
      "model_module": "@jupyter-widgets/controls",
      "model_module_version": "1.5.0",
      "model_name": "FloatProgressModel",
      "state": {
       "_dom_classes": [],
       "_model_module": "@jupyter-widgets/controls",
       "_model_module_version": "1.5.0",
       "_model_name": "FloatProgressModel",
       "_view_count": null,
       "_view_module": "@jupyter-widgets/controls",
       "_view_module_version": "1.5.0",
       "_view_name": "ProgressView",
       "bar_style": "success",
       "description": "",
       "description_tooltip": null,
       "layout": "IPY_MODEL_f075056bb0ed4927a06b01c701026daf",
       "max": 5069051.0,
       "min": 0.0,
       "orientation": "horizontal",
       "style": "IPY_MODEL_551e2e095c3c424bb5b9f279f873ca22",
       "value": 5069051.0
      }
     },
     "a7f3e2b5fe36422380c24a349f9dcaa0": {
      "model_module": "@jupyter-widgets/controls",
      "model_module_version": "1.5.0",
      "model_name": "HBoxModel",
      "state": {
       "_dom_classes": [],
       "_model_module": "@jupyter-widgets/controls",
       "_model_module_version": "1.5.0",
       "_model_name": "HBoxModel",
       "_view_count": null,
       "_view_module": "@jupyter-widgets/controls",
       "_view_module_version": "1.5.0",
       "_view_name": "HBoxView",
       "box_style": "",
       "children": [
        "IPY_MODEL_6df308e17bb34a48883719e3556db099",
        "IPY_MODEL_cb14932fc61243e4a7c08f05521a65aa",
        "IPY_MODEL_5863762d62194a18b389d31afe88ea80"
       ],
       "layout": "IPY_MODEL_de5e10ccacb6456e881d3e950982b52d"
      }
     },
     "b4ecd23f0a1a4f8ba04dfe878ea6c61b": {
      "model_module": "@jupyter-widgets/base",
      "model_module_version": "1.2.0",
      "model_name": "LayoutModel",
      "state": {
       "_model_module": "@jupyter-widgets/base",
       "_model_module_version": "1.2.0",
       "_model_name": "LayoutModel",
       "_view_count": null,
       "_view_module": "@jupyter-widgets/base",
       "_view_module_version": "1.2.0",
       "_view_name": "LayoutView",
       "align_content": null,
       "align_items": null,
       "align_self": null,
       "border": null,
       "bottom": null,
       "display": null,
       "flex": null,
       "flex_flow": null,
       "grid_area": null,
       "grid_auto_columns": null,
       "grid_auto_flow": null,
       "grid_auto_rows": null,
       "grid_column": null,
       "grid_gap": null,
       "grid_row": null,
       "grid_template_areas": null,
       "grid_template_columns": null,
       "grid_template_rows": null,
       "height": null,
       "justify_content": null,
       "justify_items": null,
       "left": null,
       "margin": null,
       "max_height": null,
       "max_width": null,
       "min_height": null,
       "min_width": null,
       "object_fit": null,
       "object_position": null,
       "order": null,
       "overflow": null,
       "overflow_x": null,
       "overflow_y": null,
       "padding": null,
       "right": null,
       "top": null,
       "visibility": null,
       "width": null
      }
     },
     "b716a2b232954a39b4c71655938dfe40": {
      "model_module": "@jupyter-widgets/controls",
      "model_module_version": "1.5.0",
      "model_name": "DescriptionStyleModel",
      "state": {
       "_model_module": "@jupyter-widgets/controls",
       "_model_module_version": "1.5.0",
       "_model_name": "DescriptionStyleModel",
       "_view_count": null,
       "_view_module": "@jupyter-widgets/base",
       "_view_module_version": "1.2.0",
       "_view_name": "StyleView",
       "description_width": ""
      }
     },
     "ba2a7415e94048d4ae670c1450d497b8": {
      "model_module": "@jupyter-widgets/controls",
      "model_module_version": "1.5.0",
      "model_name": "HTMLModel",
      "state": {
       "_dom_classes": [],
       "_model_module": "@jupyter-widgets/controls",
       "_model_module_version": "1.5.0",
       "_model_name": "HTMLModel",
       "_view_count": null,
       "_view_module": "@jupyter-widgets/controls",
       "_view_module_version": "1.5.0",
       "_view_name": "HTMLView",
       "description": "",
       "description_tooltip": null,
       "layout": "IPY_MODEL_6e455d3c726f45a99ebd26144853b584",
       "placeholder": "​",
       "style": "IPY_MODEL_55ae297f6a09468b982f185fc19e2fc5",
       "value": "sentencepiece.bpe.model: 100%"
      }
     },
     "bb2b2e6011174530bcee5dbc716acc22": {
      "model_module": "@jupyter-widgets/controls",
      "model_module_version": "1.5.0",
      "model_name": "FloatProgressModel",
      "state": {
       "_dom_classes": [],
       "_model_module": "@jupyter-widgets/controls",
       "_model_module_version": "1.5.0",
       "_model_name": "FloatProgressModel",
       "_view_count": null,
       "_view_module": "@jupyter-widgets/controls",
       "_view_module_version": "1.5.0",
       "_view_name": "ProgressView",
       "bar_style": "success",
       "description": "",
       "description_tooltip": null,
       "layout": "IPY_MODEL_4fa1d471803448e8832386d8d3906757",
       "max": 470657952.0,
       "min": 0.0,
       "orientation": "horizontal",
       "style": "IPY_MODEL_993ad7f2d05f4c309ecc0bc4df668938",
       "value": 470657952.0
      }
     },
     "bd687504219d40cb81eaf6fb2897bb6e": {
      "model_module": "@jupyter-widgets/base",
      "model_module_version": "1.2.0",
      "model_name": "LayoutModel",
      "state": {
       "_model_module": "@jupyter-widgets/base",
       "_model_module_version": "1.2.0",
       "_model_name": "LayoutModel",
       "_view_count": null,
       "_view_module": "@jupyter-widgets/base",
       "_view_module_version": "1.2.0",
       "_view_name": "LayoutView",
       "align_content": null,
       "align_items": null,
       "align_self": null,
       "border": null,
       "bottom": null,
       "display": null,
       "flex": null,
       "flex_flow": null,
       "grid_area": null,
       "grid_auto_columns": null,
       "grid_auto_flow": null,
       "grid_auto_rows": null,
       "grid_column": null,
       "grid_gap": null,
       "grid_row": null,
       "grid_template_areas": null,
       "grid_template_columns": null,
       "grid_template_rows": null,
       "height": null,
       "justify_content": null,
       "justify_items": null,
       "left": null,
       "margin": null,
       "max_height": null,
       "max_width": null,
       "min_height": null,
       "min_width": null,
       "object_fit": null,
       "object_position": null,
       "order": null,
       "overflow": null,
       "overflow_x": null,
       "overflow_y": null,
       "padding": null,
       "right": null,
       "top": null,
       "visibility": null,
       "width": null
      }
     },
     "be3caa389249476cac42d126b3262eb0": {
      "model_module": "@jupyter-widgets/base",
      "model_module_version": "1.2.0",
      "model_name": "LayoutModel",
      "state": {
       "_model_module": "@jupyter-widgets/base",
       "_model_module_version": "1.2.0",
       "_model_name": "LayoutModel",
       "_view_count": null,
       "_view_module": "@jupyter-widgets/base",
       "_view_module_version": "1.2.0",
       "_view_name": "LayoutView",
       "align_content": null,
       "align_items": null,
       "align_self": null,
       "border": null,
       "bottom": null,
       "display": null,
       "flex": null,
       "flex_flow": null,
       "grid_area": null,
       "grid_auto_columns": null,
       "grid_auto_flow": null,
       "grid_auto_rows": null,
       "grid_column": null,
       "grid_gap": null,
       "grid_row": null,
       "grid_template_areas": null,
       "grid_template_columns": null,
       "grid_template_rows": null,
       "height": null,
       "justify_content": null,
       "justify_items": null,
       "left": null,
       "margin": null,
       "max_height": null,
       "max_width": null,
       "min_height": null,
       "min_width": null,
       "object_fit": null,
       "object_position": null,
       "order": null,
       "overflow": null,
       "overflow_x": null,
       "overflow_y": null,
       "padding": null,
       "right": null,
       "top": null,
       "visibility": null,
       "width": null
      }
     },
     "c925216575ed4912b94dedbea67314e5": {
      "model_module": "@jupyter-widgets/controls",
      "model_module_version": "1.5.0",
      "model_name": "DescriptionStyleModel",
      "state": {
       "_model_module": "@jupyter-widgets/controls",
       "_model_module_version": "1.5.0",
       "_model_name": "DescriptionStyleModel",
       "_view_count": null,
       "_view_module": "@jupyter-widgets/base",
       "_view_module_version": "1.2.0",
       "_view_name": "StyleView",
       "description_width": ""
      }
     },
     "cb14932fc61243e4a7c08f05521a65aa": {
      "model_module": "@jupyter-widgets/controls",
      "model_module_version": "1.5.0",
      "model_name": "FloatProgressModel",
      "state": {
       "_dom_classes": [],
       "_model_module": "@jupyter-widgets/controls",
       "_model_module_version": "1.5.0",
       "_model_name": "FloatProgressModel",
       "_view_count": null,
       "_view_module": "@jupyter-widgets/controls",
       "_view_module_version": "1.5.0",
       "_view_name": "ProgressView",
       "bar_style": "success",
       "description": "",
       "description_tooltip": null,
       "layout": "IPY_MODEL_54138239321e405b8e6613692ca37e81",
       "max": 430.0,
       "min": 0.0,
       "orientation": "horizontal",
       "style": "IPY_MODEL_3e52ea102db848b792a2d5973493fdd4",
       "value": 430.0
      }
     },
     "cd67658aa4354170a08aaaae121b841e": {
      "model_module": "@jupyter-widgets/controls",
      "model_module_version": "1.5.0",
      "model_name": "FloatProgressModel",
      "state": {
       "_dom_classes": [],
       "_model_module": "@jupyter-widgets/controls",
       "_model_module_version": "1.5.0",
       "_model_name": "FloatProgressModel",
       "_view_count": null,
       "_view_module": "@jupyter-widgets/controls",
       "_view_module_version": "1.5.0",
       "_view_name": "ProgressView",
       "bar_style": "success",
       "description": "",
       "description_tooltip": null,
       "layout": "IPY_MODEL_3c35d054fa28461f9481e06941f0cce6",
       "max": 2.0,
       "min": 0.0,
       "orientation": "horizontal",
       "style": "IPY_MODEL_d4f56e4e9913429482fd0ec99d5cb98e",
       "value": 2.0
      }
     },
     "cf17429c83974600af2ab83d146d31cd": {
      "model_module": "@jupyter-widgets/controls",
      "model_module_version": "1.5.0",
      "model_name": "DescriptionStyleModel",
      "state": {
       "_model_module": "@jupyter-widgets/controls",
       "_model_module_version": "1.5.0",
       "_model_name": "DescriptionStyleModel",
       "_view_count": null,
       "_view_module": "@jupyter-widgets/base",
       "_view_module_version": "1.2.0",
       "_view_name": "StyleView",
       "description_width": ""
      }
     },
     "d1545c512bcd40ffb3394abdf2364668": {
      "model_module": "@jupyter-widgets/base",
      "model_module_version": "1.2.0",
      "model_name": "LayoutModel",
      "state": {
       "_model_module": "@jupyter-widgets/base",
       "_model_module_version": "1.2.0",
       "_model_name": "LayoutModel",
       "_view_count": null,
       "_view_module": "@jupyter-widgets/base",
       "_view_module_version": "1.2.0",
       "_view_name": "LayoutView",
       "align_content": null,
       "align_items": null,
       "align_self": null,
       "border": null,
       "bottom": null,
       "display": null,
       "flex": null,
       "flex_flow": null,
       "grid_area": null,
       "grid_auto_columns": null,
       "grid_auto_flow": null,
       "grid_auto_rows": null,
       "grid_column": null,
       "grid_gap": null,
       "grid_row": null,
       "grid_template_areas": null,
       "grid_template_columns": null,
       "grid_template_rows": null,
       "height": null,
       "justify_content": null,
       "justify_items": null,
       "left": null,
       "margin": null,
       "max_height": null,
       "max_width": null,
       "min_height": null,
       "min_width": null,
       "object_fit": null,
       "object_position": null,
       "order": null,
       "overflow": null,
       "overflow_x": null,
       "overflow_y": null,
       "padding": null,
       "right": null,
       "top": null,
       "visibility": null,
       "width": null
      }
     },
     "d4f56e4e9913429482fd0ec99d5cb98e": {
      "model_module": "@jupyter-widgets/controls",
      "model_module_version": "1.5.0",
      "model_name": "ProgressStyleModel",
      "state": {
       "_model_module": "@jupyter-widgets/controls",
       "_model_module_version": "1.5.0",
       "_model_name": "ProgressStyleModel",
       "_view_count": null,
       "_view_module": "@jupyter-widgets/base",
       "_view_module_version": "1.2.0",
       "_view_name": "StyleView",
       "bar_color": null,
       "description_width": ""
      }
     },
     "d90512ae7af74c61b2d52d96017b672c": {
      "model_module": "@jupyter-widgets/controls",
      "model_module_version": "1.5.0",
      "model_name": "HTMLModel",
      "state": {
       "_dom_classes": [],
       "_model_module": "@jupyter-widgets/controls",
       "_model_module_version": "1.5.0",
       "_model_name": "HTMLModel",
       "_view_count": null,
       "_view_module": "@jupyter-widgets/controls",
       "_view_module_version": "1.5.0",
       "_view_name": "HTMLView",
       "description": "",
       "description_tooltip": null,
       "layout": "IPY_MODEL_bd687504219d40cb81eaf6fb2897bb6e",
       "placeholder": "​",
       "style": "IPY_MODEL_134c3709554f4bbca0803e9df8a48ed0",
       "value": "tokenizer_config.json: 100%"
      }
     },
     "ddbd44d7a2c54e78a3943d10e13a86d6": {
      "model_module": "@jupyter-widgets/controls",
      "model_module_version": "1.5.0",
      "model_name": "DescriptionStyleModel",
      "state": {
       "_model_module": "@jupyter-widgets/controls",
       "_model_module_version": "1.5.0",
       "_model_name": "DescriptionStyleModel",
       "_view_count": null,
       "_view_module": "@jupyter-widgets/base",
       "_view_module_version": "1.2.0",
       "_view_name": "StyleView",
       "description_width": ""
      }
     },
     "de5e10ccacb6456e881d3e950982b52d": {
      "model_module": "@jupyter-widgets/base",
      "model_module_version": "1.2.0",
      "model_name": "LayoutModel",
      "state": {
       "_model_module": "@jupyter-widgets/base",
       "_model_module_version": "1.2.0",
       "_model_name": "LayoutModel",
       "_view_count": null,
       "_view_module": "@jupyter-widgets/base",
       "_view_module_version": "1.2.0",
       "_view_name": "LayoutView",
       "align_content": null,
       "align_items": null,
       "align_self": null,
       "border": null,
       "bottom": null,
       "display": null,
       "flex": null,
       "flex_flow": null,
       "grid_area": null,
       "grid_auto_columns": null,
       "grid_auto_flow": null,
       "grid_auto_rows": null,
       "grid_column": null,
       "grid_gap": null,
       "grid_row": null,
       "grid_template_areas": null,
       "grid_template_columns": null,
       "grid_template_rows": null,
       "height": null,
       "justify_content": null,
       "justify_items": null,
       "left": null,
       "margin": null,
       "max_height": null,
       "max_width": null,
       "min_height": null,
       "min_width": null,
       "object_fit": null,
       "object_position": null,
       "order": null,
       "overflow": null,
       "overflow_x": null,
       "overflow_y": null,
       "padding": null,
       "right": null,
       "top": null,
       "visibility": null,
       "width": null
      }
     },
     "e81a46bc144b420ea059dbe9144acf12": {
      "model_module": "@jupyter-widgets/base",
      "model_module_version": "1.2.0",
      "model_name": "LayoutModel",
      "state": {
       "_model_module": "@jupyter-widgets/base",
       "_model_module_version": "1.2.0",
       "_model_name": "LayoutModel",
       "_view_count": null,
       "_view_module": "@jupyter-widgets/base",
       "_view_module_version": "1.2.0",
       "_view_name": "LayoutView",
       "align_content": null,
       "align_items": null,
       "align_self": null,
       "border": null,
       "bottom": null,
       "display": null,
       "flex": null,
       "flex_flow": null,
       "grid_area": null,
       "grid_auto_columns": null,
       "grid_auto_flow": null,
       "grid_auto_rows": null,
       "grid_column": null,
       "grid_gap": null,
       "grid_row": null,
       "grid_template_areas": null,
       "grid_template_columns": null,
       "grid_template_rows": null,
       "height": null,
       "justify_content": null,
       "justify_items": null,
       "left": null,
       "margin": null,
       "max_height": null,
       "max_width": null,
       "min_height": null,
       "min_width": null,
       "object_fit": null,
       "object_position": null,
       "order": null,
       "overflow": null,
       "overflow_x": null,
       "overflow_y": null,
       "padding": null,
       "right": null,
       "top": null,
       "visibility": null,
       "width": null
      }
     },
     "ed0e79d131204bf8ab5e83ca7b94582e": {
      "model_module": "@jupyter-widgets/base",
      "model_module_version": "1.2.0",
      "model_name": "LayoutModel",
      "state": {
       "_model_module": "@jupyter-widgets/base",
       "_model_module_version": "1.2.0",
       "_model_name": "LayoutModel",
       "_view_count": null,
       "_view_module": "@jupyter-widgets/base",
       "_view_module_version": "1.2.0",
       "_view_name": "LayoutView",
       "align_content": null,
       "align_items": null,
       "align_self": null,
       "border": null,
       "bottom": null,
       "display": null,
       "flex": null,
       "flex_flow": null,
       "grid_area": null,
       "grid_auto_columns": null,
       "grid_auto_flow": null,
       "grid_auto_rows": null,
       "grid_column": null,
       "grid_gap": null,
       "grid_row": null,
       "grid_template_areas": null,
       "grid_template_columns": null,
       "grid_template_rows": null,
       "height": null,
       "justify_content": null,
       "justify_items": null,
       "left": null,
       "margin": null,
       "max_height": null,
       "max_width": null,
       "min_height": null,
       "min_width": null,
       "object_fit": null,
       "object_position": null,
       "order": null,
       "overflow": null,
       "overflow_x": null,
       "overflow_y": null,
       "padding": null,
       "right": null,
       "top": null,
       "visibility": null,
       "width": null
      }
     },
     "f075056bb0ed4927a06b01c701026daf": {
      "model_module": "@jupyter-widgets/base",
      "model_module_version": "1.2.0",
      "model_name": "LayoutModel",
      "state": {
       "_model_module": "@jupyter-widgets/base",
       "_model_module_version": "1.2.0",
       "_model_name": "LayoutModel",
       "_view_count": null,
       "_view_module": "@jupyter-widgets/base",
       "_view_module_version": "1.2.0",
       "_view_name": "LayoutView",
       "align_content": null,
       "align_items": null,
       "align_self": null,
       "border": null,
       "bottom": null,
       "display": null,
       "flex": null,
       "flex_flow": null,
       "grid_area": null,
       "grid_auto_columns": null,
       "grid_auto_flow": null,
       "grid_auto_rows": null,
       "grid_column": null,
       "grid_gap": null,
       "grid_row": null,
       "grid_template_areas": null,
       "grid_template_columns": null,
       "grid_template_rows": null,
       "height": null,
       "justify_content": null,
       "justify_items": null,
       "left": null,
       "margin": null,
       "max_height": null,
       "max_width": null,
       "min_height": null,
       "min_width": null,
       "object_fit": null,
       "object_position": null,
       "order": null,
       "overflow": null,
       "overflow_x": null,
       "overflow_y": null,
       "padding": null,
       "right": null,
       "top": null,
       "visibility": null,
       "width": null
      }
     },
     "f7f6c44df8c04ee6b4c3141d0bc45191": {
      "model_module": "@jupyter-widgets/base",
      "model_module_version": "1.2.0",
      "model_name": "LayoutModel",
      "state": {
       "_model_module": "@jupyter-widgets/base",
       "_model_module_version": "1.2.0",
       "_model_name": "LayoutModel",
       "_view_count": null,
       "_view_module": "@jupyter-widgets/base",
       "_view_module_version": "1.2.0",
       "_view_name": "LayoutView",
       "align_content": null,
       "align_items": null,
       "align_self": null,
       "border": null,
       "bottom": null,
       "display": null,
       "flex": null,
       "flex_flow": null,
       "grid_area": null,
       "grid_auto_columns": null,
       "grid_auto_flow": null,
       "grid_auto_rows": null,
       "grid_column": null,
       "grid_gap": null,
       "grid_row": null,
       "grid_template_areas": null,
       "grid_template_columns": null,
       "grid_template_rows": null,
       "height": null,
       "justify_content": null,
       "justify_items": null,
       "left": null,
       "margin": null,
       "max_height": null,
       "max_width": null,
       "min_height": null,
       "min_width": null,
       "object_fit": null,
       "object_position": null,
       "order": null,
       "overflow": null,
       "overflow_x": null,
       "overflow_y": null,
       "padding": null,
       "right": null,
       "top": null,
       "visibility": null,
       "width": null
      }
     }
    },
    "version_major": 2,
    "version_minor": 0
   }
  }
 },
 "nbformat": 4,
 "nbformat_minor": 5
}
